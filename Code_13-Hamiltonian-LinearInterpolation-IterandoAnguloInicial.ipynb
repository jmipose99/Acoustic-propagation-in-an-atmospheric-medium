{
 "cells": [
  {
   "cell_type": "code",
   "execution_count": null,
   "id": "cc0425ef",
   "metadata": {},
   "outputs": [],
   "source": [
    "using Pkg\n",
    "Pkg.add(\"Interpolations\")\n",
    "Pkg.add(\"BasicInterpolators\")"
   ]
  },
  {
   "cell_type": "markdown",
   "id": "2bf10fff",
   "metadata": {},
   "source": [
    "# Resolvemos para atmósfera estratificada\n",
    "Siendo $\\vec{q}=\\nabla(\\tau)$ y $\\vec{w}$ el vector velocidad del viento, para una atmósfera estratificada se obtiene $\\dfrac{dq_x}{dt}=\\dfrac{dq_y}{dt}=0;\\dfrac{dq_z}{dt}=-q\\dfrac{\\partial c}{\\partial z}-\\vec{q}.\\dfrac{\\partial \\vec{w}}{\\partial z}$ (Brouwer 2014).\n",
    "\n",
    "Implementamos un caso de velocidad de viento constante ($\\dfrac{\\partial \\vec{w}}{\\partial z}$) con velocidad del sonido dependiente de la altura con la temperatura: $c_{air}=331 \\dfrac{m}{s}\\sqrt{\\dfrac{T_{z=0m}-\\dfrac{z}{300m}}{273.15 K}}$\n",
    "\n",
    "\n",
    "Obtenemos: $\\dfrac{dq_z}{dt}=-\\sqrt{q_x^2+q_y^2+q_z^2}\\dfrac{\\partial c}{\\partial z}; met=-\\dfrac{331}{600*273.15\\sqrt{\\dfrac{T_{z=0m}-\\dfrac{z}{300m}}{273.15 K}}}=- \\dfrac{331^2}{600*273.15*c(T,z)}\\dfrac{1}{s} \\Rightarrow \\dfrac{dq_z}{dt}=\\dfrac{1}{q_z}\\dfrac{dq_z}{dz}=\\dfrac{331^2\\sqrt{q_{x}^2+q_{y}^2+q_z^2}}{600*273.15*c(T,z)} \\Rightarrow \\dfrac{dq_z}{dz}=\\dfrac{331^2\\sqrt{q_{x}^2+q_{y}^2+q_z^2}q_z}{600*273.15*c(T,z)}$\n",
    "\n",
    "Con $\\dfrac{dt}{d\\tau}=1$ y la c.i. $\\tau(x,y,z=Source)=0$ obtenemos $\\tau=| \\int \\vec{q} d \\vec{s} | \\approx \\Sigma |\\vec{q_i}.\\vec{\\Delta {s_i}}  |  $ siendo s cada elemento diferencial de la trayectoria recorrida por el rayo acústico."
   ]
  },
  {
   "cell_type": "code",
   "execution_count": 7,
   "id": "1f959cb5",
   "metadata": {},
   "outputs": [
    {
     "data": {
      "text/plain": [
       "c_air_TZ (generic function with 1 method)"
      ]
     },
     "execution_count": 7,
     "metadata": {},
     "output_type": "execute_result"
    }
   ],
   "source": [
    "function c_air_TZ(T_z0,z)\n",
    "    c_air=331*sqrt((T_z0+273.15-z/300)/273.15) #Introduzco T_Z0 en grados centígrados por comodidad\n",
    "    return c_air\n",
    "end"
   ]
  },
  {
   "cell_type": "markdown",
   "id": "9f8732d4",
   "metadata": {},
   "source": [
    "Resolvemos la ODE: $\\dfrac{dq_x}{dz}=\\dfrac{dq_y}{dz}=0 ;\\dfrac{dq_z}{dz}=\\dfrac{331^2\\sqrt{q_{x}^2+q_{y}^2+q_z^2}q_z}{600*273.15*c(T,z)}$"
   ]
  },
  {
   "cell_type": "code",
   "execution_count": 8,
   "id": "d4d37931",
   "metadata": {},
   "outputs": [
    {
     "name": "stdout",
     "output_type": "stream",
     "text": [
      "  0.247176 seconds (92.58 k allocations: 6.269 MiB, 99.24% compilation time: 96% of which was recompilation)\n"
     ]
    }
   ],
   "source": [
    "@time begin\n",
    "#############################################\n",
    "using DifferentialEquations\n",
    "\n",
    "#Argumentos y datos\n",
    "v_wind=[5.,-10,-5.];\n",
    "T=20.;  \n",
    "SourcePoint=[0.,0.,0.];\n",
    "ReceiverPoint=[5000.,5000.,5000.];\n",
    "\n",
    "#Definimos la ODE \n",
    "    function q!(dq, q, p, z)\n",
    "        c=c_air_TZ(p[1],z)\n",
    "        dq[1]=0\n",
    "        dq[2]=0\n",
    "        dq[3] = 331^2*sqrt(q[1]^2 + q[2]^2 + q[3]^2)*q[3] / (600 * 273.15 *c)\n",
    "    end\n",
    "    #Ángulos iniciales\n",
    "    theta=rad2deg(acos(1/sqrt(3)))\n",
    "    phi=45 #Calculados directamente\n",
    "    # Definimos las condiciones iniciales y los parámetros\n",
    "    q0=1/(c_air_TZ(T, SourcePoint[3])+(v_wind[1]*cosd(phi)+v_wind[2]*sind(phi))*sind(theta))\n",
    "    q_x = q0*cosd(phi)*sind(theta)\n",
    "    q_y = q0*sind(phi)*sind(theta)\n",
    "    q_z = q0*cosd(theta)\n",
    "    u0 = [q_x, q_y, q_z]\n",
    "    \n",
    "\n",
    "    # Definimps el rango de valores de z. Debemos tener cuidado al optimizar, dado\n",
    "    # que si algún valor (coordenada z) optimizado está fuera de zspan no podemos evaluarlo.\n",
    "    zspan = (SourcePoint[3], ReceiverPoint[3])\n",
    "\n",
    "    # Definimos los parámetros\n",
    "    p = [T] \n",
    "\n",
    "    # Definir el problema ODE\n",
    "    prob = ODEProblem(q!, u0, zspan, p)\n",
    "    \n",
    "    #Resolvemos el problema ODE almacenando en los valores de Z que se corresponden a las uniones de los segmentos.\n",
    "    #z_values=SegmentsCoords[:,3]\n",
    "    #, saveat=z_values\n",
    "    sol = solve(prob, RK4(),dt=1e-3)\n",
    "    #Mirar documentacion para obtener funcion e introducirla como argumento de entrada\n",
    "    \n",
    "    #Guardamos los valores de vec(q)\n",
    "    qx_vals=zeros(length(sol.u))\n",
    "    qy_vals=zeros(length(sol.u))\n",
    "    qz_vals=zeros(length(sol.u))\n",
    "\n",
    "    for i in 1:length(sol.u)\n",
    "        qx_vals[i]=sol.u[i][1]\n",
    "        qy_vals[i]=sol.u[i][2]\n",
    "        qz_vals[i]=sol.u[i][3]\n",
    "    end\n",
    "#########################\n",
    "end"
   ]
  },
  {
   "cell_type": "code",
   "execution_count": 9,
   "id": "65b49906",
   "metadata": {},
   "outputs": [
    {
     "data": {
      "text/plain": [
       "9-element extrapolate(interpolate((::Vector{Float64},), ::Vector{Float64}, Gridded(Linear())), Throw()) with element type Float64:\n",
       " 0.0016980037155087805\n",
       " 0.0016980037252445233\n",
       " 0.001698003822601959\n",
       " 0.0016980047961770292\n",
       " 0.001698014531999111\n",
       " 0.001698111897358504\n",
       " 0.0016990862654346487\n",
       " 0.00170890202527781\n",
       " 0.0017483714615856465"
      ]
     },
     "execution_count": 9,
     "metadata": {},
     "output_type": "execute_result"
    }
   ],
   "source": [
    "using Interpolations\n",
    "###### qx y qy son constantes\n",
    "qx=sum(qx_vals)/length(qx_vals)\n",
    "######\n",
    "qy=sum(qy_vals)/length(qy_vals)\n",
    "######\n",
    "z_values_linear = collect(range(SourcePoint[3], stop=ReceiverPoint[3], length=length(qz_vals)))\n",
    "qz_z_linear=LinearInterpolation(z_values_linear, qz_vals)\n",
    "\n",
    "\n"
   ]
  },
  {
   "cell_type": "code",
   "execution_count": 10,
   "id": "b7ba357f",
   "metadata": {},
   "outputs": [
    {
     "data": {
      "text/plain": [
       "Hamiltonian_l (generic function with 1 method)"
      ]
     },
     "execution_count": 10,
     "metadata": {},
     "output_type": "execute_result"
    }
   ],
   "source": [
    "using DifferentialEquations\n",
    "\n",
    "function Hamiltonian_l(qx::Float64,qy::Float64,qz_z_linear, SegmentsCoords::Array{Float64, 2})\n",
    "   \n",
    "    #Calculamos los traveltime entre cada segmento tomando la media de las q entre cada segmento (aproximación regla Trapecio)\n",
    "    taus=zeros(length(SegmentsCoords[:,1])-1)\n",
    "    for i in 1:(length(SegmentsCoords[:,1])-1)\n",
    "        #qx y qy son constantes, da igual que elemento del vector cojamos. Solo debemos tener cuidado con\n",
    "        aux_x=(SegmentsCoords[i+1,1]-SegmentsCoords[i,1])\n",
    "        aux_y=(SegmentsCoords[i+1,2]-SegmentsCoords[i,2])\n",
    "        # La función de interpolación cúbica puede extrapolarse ligeramente fuera del rango de los datos\n",
    "        #debido a la naturaleza de la interpolación cúbica.  Iterando la condición inicial lleva a BoundsError. Debo emplear \n",
    "        #clamp() para asegurarme que interpola dentro del rango\n",
    "        z1 = clamp(SegmentsCoords[i,3], SegmentsCoords[1,3], SegmentsCoords[end,3])\n",
    "        z2 = clamp(SegmentsCoords[i+1,3], SegmentsCoords[1,3], SegmentsCoords[end,3])\n",
    "        aux_z=(SegmentsCoords[i+1,3]-SegmentsCoords[i,3])\n",
    "        q_m=sqrt(qx^2+qy^2+(qz_z_linear(z1)+qz_z_linear(z2))^2/4)\n",
    "        taus[i]=q_m*sqrt(aux_x^2+aux_y^2+aux_z^2)\n",
    "    end\n",
    "    \n",
    "    #Sumamos el travel time de cada segmento para obtener el total\n",
    "    total_travel_time = sum(taus)\n",
    "        \n",
    "    return total_travel_time\n",
    "end"
   ]
  },
  {
   "cell_type": "code",
   "execution_count": 11,
   "id": "b89c0556",
   "metadata": {},
   "outputs": [
    {
     "name": "stdout",
     "output_type": "stream",
     "text": [
      "The total travel time for the segmented trajectory is: 25.535505567585158 seconds\n",
      "  1.964153 seconds (6.77 M allocations: 482.919 MiB, 10.32% gc time, 23.69% compilation time: 72% of which was recompilation)\n",
      "Iteraciones realizadas: 2\n",
      "Evaluaciones de la función: 373\n"
     ]
    }
   ],
   "source": [
    "@time begin\n",
    "using Optim\n",
    "using Statistics\n",
    "#Argumentos y datos\n",
    "v_wind=[5.,-10,-5.];\n",
    "T=20.;  \n",
    "SourcePoint=[0.,0.,0.];\n",
    "ReceiverPoint=[5000.,5000.,5000.];\n",
    "\n",
    "#Optimizamos las coordenadas de las uniones entre segmentos\n",
    "function objective(SegmentsCoords)\n",
    "    # Primero nos aseguramos de que SourcePoint y ReceiverPoint no se optimizan pero que se incluyen en SegmentsCoords\n",
    "    FullSegmentsCoords = vcat(reshape(SourcePoint, 1, :), SegmentsCoords, reshape(ReceiverPoint, 1, :))\n",
    "    x12=FullSegmentsCoords[1,2]-FullSegmentsCoords[1,1]\n",
    "    y12=FullSegmentsCoords[2,2]-FullSegmentsCoords[2,1]\n",
    "    z12=FullSegmentsCoords[2,3]-FullSegmentsCoords[1,3]\n",
    "    theta=rad2deg(acos(z12/sqrt(x12^2+y12^2+z12^2)))\n",
    "    phi=rad2deg(atan(y12,x12)) \n",
    "    # Definimos las condiciones iniciales y los parámetros\n",
    "    q0=1/(c_air_TZ(T, SourcePoint[3])+(v_wind[1]*cosd(phi)+v_wind[2]*sind(phi))*sind(theta))\n",
    "    q_x = q0*cosd(phi)*sind(theta)\n",
    "    q_y = q0*sind(phi)*sind(theta)\n",
    "    q_z = q0*cosd(theta)\n",
    "    u0 = [q_x, q_y, q_z]\n",
    "    prob = ODEProblem(q!, u0, zspan, p)\n",
    "    sol = solve(prob, RK4(),dt=1e-3)\n",
    "    #Mirar documentacion para obtener funcion e introducirla como argumento de entrada\n",
    "    \n",
    "    #Guardamos los valores de vec(q)\n",
    "    qx_vals=zeros(length(sol.u))\n",
    "    qy_vals=zeros(length(sol.u))\n",
    "    qz_vals=zeros(length(sol.u))\n",
    "\n",
    "    for i in 1:length(sol.u)\n",
    "        qx_vals[i]=sol.u[i][1]\n",
    "        qy_vals[i]=sol.u[i][2]\n",
    "        qz_vals[i]=sol.u[i][3]\n",
    "    end\n",
    "    qx=sum(qx_vals)/length(qx_vals)\n",
    "    ######\n",
    "    qy=sum(qy_vals)/length(qy_vals)\n",
    "    ######\n",
    "    z_values_linear = collect(range(SourcePoint[3], stop=ReceiverPoint[3], length=length(qz_vals)))\n",
    "    qz_z_linear=LinearInterpolation(z_values_linear, qz_vals)    \n",
    "    traveltime = Hamiltonian_l(qx, qy, qz_z_linear, FullSegmentsCoords)\n",
    "    # Calculamos las distancias entre segmentos consecutivos\n",
    "    segment_distances = diff(FullSegmentsCoords, dims=1)\n",
    "\n",
    "    # Calculamos la desviación estándar de las distancias\n",
    "    distance_std_normalized = Statistics.std(segment_distances)/(ReceiverPoint[3]-SourcePoint[3])\n",
    "\n",
    "    # Agregamos una penalización a la función objetivo basada en la desviación estándar de las distancias\n",
    "    \n",
    "    penal = 0\n",
    "    if x12<10 && y12<10 && z12<10\n",
    "            penal=1e9\n",
    "    end\n",
    "    #Otra penalización si el segundo punto es muy próximo a 0\n",
    "    return traveltime + distance_std_normalized + penal\n",
    "end\n",
    "\n",
    "#Recta troceada desde la fuente al receptor como condición inicial\n",
    "num_segments=10;\n",
    "initial_SegmentsCoords = zeros(num_segments-1, 3); \n",
    "for i in 1:num_segments-1\n",
    "    alpha = i / num_segments\n",
    "    initial_SegmentsCoords[i, :] = SourcePoint + alpha * (ReceiverPoint - SourcePoint) \n",
    "end\n",
    "\n",
    "# Tenemos que tomar restricciones \"de caja\" para que los valores de z (SegmentsCoords[:,3]) \n",
    "#optimizados no esten fuera del intervalo de solución (zspan)\n",
    "lower_bounds = fill(SourcePoint[3], size(initial_SegmentsCoords))\n",
    "upper_bounds = fill(ReceiverPoint[3], size(initial_SegmentsCoords))\n",
    "\n",
    "# Optimizador interno. Limited-memory Broyden-Fletcher-Goldfarb-Shanno\n",
    "#método de optimización de segundo orden valido para minimizar funciones no lineales.\n",
    "inner_optimizer = LBFGS()\n",
    "\n",
    "# Optimizador con las restricciones \"de caja\"\n",
    "optimizer_with_constraints = Fminbox(inner_optimizer)\n",
    "\n",
    "# Optimizamos con las restricciones\n",
    "result = optimize(objective, lower_bounds, upper_bounds, initial_SegmentsCoords, optimizer_with_constraints)\n",
    "\n",
    "#Resultado de la optimización\n",
    "Optimal_SegmentsCoords = result.minimizer;\n",
    "    \n",
    "#Incluimos la fuente y el receptor a las coordenadas optimizadas\n",
    "Full_Optimal_SegmentsCoords= vcat(reshape(SourcePoint, 1, :), Optimal_SegmentsCoords, reshape(ReceiverPoint, 1, :))\n",
    "    \n",
    "#Evaluamos el traveltime para la trayectoria optimizada\n",
    "traveltime =Hamiltonian_l(qx, qy, qz_z_linear, Full_Optimal_SegmentsCoords)\n",
    "println(\"The total travel time for the segmented trajectory is: \", traveltime, \" seconds\")\n",
    "end\n",
    "\n",
    "println(\"Iteraciones realizadas: \", result.iterations)\n",
    "println(\"Evaluaciones de la función: \", result.f_calls)\n",
    "\n"
   ]
  },
  {
   "cell_type": "code",
   "execution_count": 12,
   "id": "54fb2b75",
   "metadata": {},
   "outputs": [
    {
     "data": {
      "text/plain": [
       "11×3 Matrix{Float64}:\n",
       "    0.0        0.0        0.0\n",
       "   53.5651    11.9427    10.0001\n",
       "  555.697    531.164    526.799\n",
       " 1049.11    1029.69    1031.86\n",
       " 1547.15    1526.45    1536.58\n",
       " 2036.9     2036.54    2036.5\n",
       " 2536.95    2536.95    2536.05\n",
       " 3036.99    3036.99    3036.17\n",
       " 3537.06    3537.06    3536.21\n",
       " 4046.94    4046.94    4046.25\n",
       " 5000.0     5000.0     5000.0"
      ]
     },
     "execution_count": 12,
     "metadata": {},
     "output_type": "execute_result"
    }
   ],
   "source": [
    "Full_Optimal_SegmentsCoords"
   ]
  },
  {
   "cell_type": "code",
   "execution_count": 13,
   "id": "d8a5bde5",
   "metadata": {},
   "outputs": [
    {
     "name": "stdout",
     "output_type": "stream",
     "text": [
      "Num segments: 2. Traveltime:25.56909390849799 s\n",
      "Iteraciones realizadas: 2. Evaluaciones de la función: 71\n",
      "Num segments: 4. Traveltime:25.63439248917741 s\n",
      "Iteraciones realizadas: 6. Evaluaciones de la función: 776\n",
      "Num segments: 8. Traveltime:25.637624508050294 s\n",
      "Iteraciones realizadas: 13. Evaluaciones de la función: 1880\n",
      "Num segments: 16. Traveltime:25.541640730648336 s\n",
      "Iteraciones realizadas: 5. Evaluaciones de la función: 593\n",
      "Num segments: 32. Traveltime:25.555003264613788 s\n",
      "Iteraciones realizadas: 8. Evaluaciones de la función: 1372\n",
      " 24.813568 seconds (130.60 M allocations: 9.568 GiB, 11.03% gc time, 2.94% compilation time: 35% of which was recompilation)\n"
     ]
    }
   ],
   "source": [
    "@time begin\n",
    "using Optim\n",
    "using Statistics\n",
    "#Argumentos y datos\n",
    "v_wind=[5.,-10,-5.];\n",
    "T=20.;  \n",
    "SourcePoint=[0.,0.,0.];\n",
    "ReceiverPoint=[5000.,5000.,5000.];\n",
    "\n",
    "#Optimizamos las coordenadas de las uniones entre segmentos\n",
    "function objective(SegmentsCoords)\n",
    "    # Primero nos aseguramos de que SourcePoint y ReceiverPoint no se optimizan pero que se incluyen en SegmentsCoords\n",
    "    FullSegmentsCoords = vcat(reshape(SourcePoint, 1, :), SegmentsCoords, reshape(ReceiverPoint, 1, :))\n",
    "    x12=FullSegmentsCoords[1,2]-FullSegmentsCoords[1,1]\n",
    "    y12=FullSegmentsCoords[2,2]-FullSegmentsCoords[2,1]\n",
    "    z12=FullSegmentsCoords[2,3]-FullSegmentsCoords[1,3]\n",
    "    theta=rad2deg(acos(z12/sqrt(x12^2+y12^2+z12^2)))\n",
    "    phi=rad2deg(atan(y12,x12)) \n",
    "    # Definimos las condiciones iniciales y los parámetros\n",
    "    q0=1/(c_air_TZ(T, SourcePoint[3])+(v_wind[1]*cosd(phi)+v_wind[2]*sind(phi))*sind(theta))\n",
    "    q_x = q0*cosd(phi)*sind(theta)\n",
    "    q_y = q0*sind(phi)*sind(theta)\n",
    "    q_z = q0*cosd(theta)\n",
    "    u0 = [q_x, q_y, q_z]\n",
    "    prob = ODEProblem(q!, u0, zspan, p)\n",
    "    sol = solve(prob, RK4(),dt=1e-3)\n",
    "    #Mirar documentacion para obtener funcion e introducirla como argumento de entrada\n",
    "    \n",
    "    #Guardamos los valores de vec(q)\n",
    "    qx_vals=zeros(length(sol.u))\n",
    "    qy_vals=zeros(length(sol.u))\n",
    "    qz_vals=zeros(length(sol.u))\n",
    "\n",
    "    for i in 1:length(sol.u)\n",
    "        qx_vals[i]=sol.u[i][1]\n",
    "        qy_vals[i]=sol.u[i][2]\n",
    "        qz_vals[i]=sol.u[i][3]\n",
    "    end\n",
    "    qx=sum(qx_vals)/length(qx_vals)\n",
    "    ######\n",
    "    qy=sum(qy_vals)/length(qy_vals)\n",
    "    ######\n",
    "    z_values_linear = collect(range(SourcePoint[3], stop=ReceiverPoint[3], length=length(qz_vals)))\n",
    "    qz_z_linear=LinearInterpolation(z_values_linear, qz_vals)    \n",
    "    traveltime = Hamiltonian_l(qx, qy, qz_z_linear, FullSegmentsCoords)\n",
    "    # Calculamos las distancias entre segmentos consecutivos\n",
    "    segment_distances = diff(FullSegmentsCoords, dims=1)\n",
    "\n",
    "    # Calculamos la desviación estándar de las distancias\n",
    "    distance_std_normalized = Statistics.std(segment_distances)/(ReceiverPoint[3]-SourcePoint[3])\n",
    "\n",
    "    # Agregamos una penalización a la función objetivo basada en la desviación estándar de las distancias\n",
    "    penal = 0\n",
    "    if x12<10 && y12<10 && z12<10\n",
    "            penal=1e9\n",
    "    end\n",
    "    #Otra penalización si el segundo punto es muy próximo a 0\n",
    "    return traveltime + distance_std_normalized + penal\n",
    "end\n",
    "\n",
    "#Definimos una matriz de matrices Plot_Coords del tamaño del bucle para luego graficar la distancia de los puntos a una recta\n",
    "Plot_Coords = Matrix{Matrix{Float64}}(undef, 5, 1)\n",
    "\n",
    "#Iteramos la condición inicial\n",
    "initial_SegmentsCoords = zeros(1, 3); #c.i.\n",
    "for i in 1:5\n",
    "    if i == 1\n",
    "        initial_SegmentsCoords[1, :] = SourcePoint + (ReceiverPoint - SourcePoint) / 2\n",
    "    end\n",
    "        \n",
    "    lower_bounds = fill(SourcePoint[3], size(initial_SegmentsCoords))\n",
    "    upper_bounds = fill(ReceiverPoint[3], size(initial_SegmentsCoords))\n",
    "    inner_optimizer = LBFGS()\n",
    "    optimizer_with_constraints = Fminbox(inner_optimizer)\n",
    "    result = optimize(objective, lower_bounds, upper_bounds, initial_SegmentsCoords, optimizer_with_constraints)\n",
    "    Optimal_SegmentsCoords = result.minimizer;\n",
    "    Full_Optimal_SegmentsCoords= vcat(reshape(SourcePoint, 1, :), Optimal_SegmentsCoords, reshape(ReceiverPoint, 1, :))\n",
    "        \n",
    "    #Almacenamos las coordenadas de la optimización incluyendo la fuente y el receptor para luego graficar\n",
    "    Plot_Coords[i]=Full_Optimal_SegmentsCoords\n",
    "    \n",
    "    #Evaluamos el travel time para los distintos números de segmentos planteados\n",
    "    total_time = Hamiltonian_l(qx, qy, qz_z_linear, Full_Optimal_SegmentsCoords)\n",
    "    println(\"Num segments: \", Int(size(Full_Optimal_SegmentsCoords, 1) - 1), \". Traveltime:\", total_time, \" s\")\n",
    "    println(\"Iteraciones realizadas: \", result.iterations, \". Evaluaciones de la función: \", result.f_calls)\n",
    "        \n",
    "\n",
    "    copy_Optimal_SegmentsCoords = zeros(2 * size(Optimal_SegmentsCoords, 1) + 1, 3)\n",
    "    \n",
    "    # Calculamos copy_optimal_SegmentsCoords \n",
    "    for j in 1:2 * size(Optimal_SegmentsCoords, 1) + 1\n",
    "        if j==1\n",
    "            copy_Optimal_SegmentsCoords[j,:]=(SourcePoint+Optimal_SegmentsCoords[1,:])/2\n",
    "        elseif j==2*size(Optimal_SegmentsCoords,1)+1\n",
    "            copy_Optimal_SegmentsCoords[j,:]=(Optimal_SegmentsCoords[end,:]+ReceiverPoint)/2\n",
    "        else\n",
    "            if iseven(j)\n",
    "                copy_Optimal_SegmentsCoords[j,:]=Optimal_SegmentsCoords[Int(j/2),:]\n",
    "            else\n",
    "                copy_Optimal_SegmentsCoords[j,:]=(Optimal_SegmentsCoords[Int((j-1)/2),:]+Optimal_SegmentsCoords[Int((j+1)/2),:])/2\n",
    "            end\n",
    "        end\n",
    "    end\n",
    "    #Aquí iteramos la condición inicial\n",
    "    initial_SegmentsCoords = copy(copy_Optimal_SegmentsCoords)\n",
    "end\n",
    "        \n",
    "end\n",
    "\n"
   ]
  },
  {
   "cell_type": "code",
   "execution_count": 14,
   "id": "217ffd85",
   "metadata": {},
   "outputs": [
    {
     "data": {
      "text/plain": [
       "33×3 Matrix{Float64}:\n",
       "    0.0        0.0             0.0\n",
       "   15.2853     2.73919e-20    10.0001\n",
       "   25.6661    20.9244         10.8101\n",
       "   84.9028    69.7212         51.6563\n",
       "  144.224    119.421          95.3815\n",
       "  426.864    361.396         306.46\n",
       "  707.305    605.282         529.275\n",
       "  984.795    851.082         761.545\n",
       " 1256.55    1097.38          998.845\n",
       " 1313.66    1150.59         1050.75\n",
       " 1369.35    1203.7          1103.45\n",
       " 1423.57    1257.1          1156.91\n",
       " 1477.01    1311.18         1211.72\n",
       "    ⋮                       \n",
       " 3334.26    3309.51         3264.79\n",
       " 3522.75    3509.68         3469.26\n",
       " 3712.31    3708.58         3672.63\n",
       " 3903.23    3906.47         3875.09\n",
       " 4039.89    4046.51         4018.55\n",
       " 4177.34    4185.82         4161.53\n",
       " 4315.22    4324.19         4303.8\n",
       " 4453.72    4462.14         4445.75\n",
       " 4590.15    4597.17         4584.83\n",
       " 4726.88    4731.92         4723.63\n",
       " 4863.66    4866.28         4862.15\n",
       " 5000.0     5000.0          5000.0"
      ]
     },
     "execution_count": 14,
     "metadata": {},
     "output_type": "execute_result"
    }
   ],
   "source": [
    "Plot_Coords[5]"
   ]
  },
  {
   "cell_type": "code",
   "execution_count": null,
   "id": "5900c5ea",
   "metadata": {},
   "outputs": [],
   "source": []
  }
 ],
 "metadata": {
  "@webio": {
   "lastCommId": null,
   "lastKernelId": null
  },
  "kernelspec": {
   "display_name": "Julia 1.9.4",
   "language": "julia",
   "name": "julia-1.9"
  },
  "language_info": {
   "file_extension": ".jl",
   "mimetype": "application/julia",
   "name": "julia",
   "version": "1.9.4"
  }
 },
 "nbformat": 4,
 "nbformat_minor": 5
}
