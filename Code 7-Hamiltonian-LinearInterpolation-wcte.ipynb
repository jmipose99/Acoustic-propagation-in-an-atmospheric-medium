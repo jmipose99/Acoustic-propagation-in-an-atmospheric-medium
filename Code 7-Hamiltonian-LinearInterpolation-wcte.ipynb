{
 "cells": [
  {
   "cell_type": "code",
   "execution_count": 1,
   "id": "cc0425ef",
   "metadata": {},
   "outputs": [
    {
     "name": "stderr",
     "output_type": "stream",
     "text": [
      "\u001b[32m\u001b[1m    Updating\u001b[22m\u001b[39m registry at `C:\\Users\\Miguel\\.julia\\registries\\General.toml`\n",
      "\u001b[32m\u001b[1m   Resolving\u001b[22m\u001b[39m package versions...\n",
      "\u001b[32m\u001b[1m  No Changes\u001b[22m\u001b[39m to `C:\\Users\\Miguel\\.julia\\environments\\v1.9\\Project.toml`\n",
      "\u001b[32m\u001b[1m  No Changes\u001b[22m\u001b[39m to `C:\\Users\\Miguel\\.julia\\environments\\v1.9\\Manifest.toml`\n",
      "\u001b[32m\u001b[1m   Resolving\u001b[22m\u001b[39m package versions...\n",
      "\u001b[32m\u001b[1m  No Changes\u001b[22m\u001b[39m to `C:\\Users\\Miguel\\.julia\\environments\\v1.9\\Project.toml`\n",
      "\u001b[32m\u001b[1m  No Changes\u001b[22m\u001b[39m to `C:\\Users\\Miguel\\.julia\\environments\\v1.9\\Manifest.toml`\n"
     ]
    }
   ],
   "source": [
    "using Pkg\n",
    "Pkg.add(\"Interpolations\")\n",
    "Pkg.add(\"BasicInterpolators\")"
   ]
  },
  {
   "cell_type": "markdown",
   "id": "2bf10fff",
   "metadata": {},
   "source": [
    "# Resolvemos para atmósfera estratificada\n",
    "Siendo $\\vec{q}=\\nabla(\\tau)$ y $\\vec{w}$ el vector velocidad del viento, para una atmósfera estratificada se obtiene $\\dfrac{dq_x}{dt}=\\dfrac{dq_y}{dt}=0;\\dfrac{dq_z}{dt}=-q\\dfrac{\\partial c}{\\partial z}-\\vec{q}.\\dfrac{\\partial \\vec{w}}{\\partial z}$ (Brouwer 2014).\n",
    "\n",
    "Implementamos un caso de velocidad de viento constante ($\\dfrac{\\partial \\vec{w}}{\\partial z}$) con velocidad del sonido dependiente de la altura con la temperatura: $c_{air}=331 \\dfrac{m}{s}\\sqrt{\\dfrac{T_{z=0m}-\\dfrac{z}{300m}}{273.15 K}}$\n",
    "\n",
    "\n",
    "Obtenemos: $\\dfrac{dq_z}{dt}=-\\sqrt{q_x^2+q_y^2+q_z^2}\\dfrac{\\partial c}{\\partial z}; met=-\\dfrac{331}{600*273.15\\sqrt{\\dfrac{T_{z=0m}-\\dfrac{z}{300m}}{273.15 K}}}=- \\dfrac{331^2}{600*273.15*c(T,z)}\\dfrac{1}{s} \\Rightarrow \\dfrac{dq_z}{dt}=\\dfrac{1}{q_z}\\dfrac{dq_z}{dz}=\\dfrac{331^2\\sqrt{q_{x}^2+q_{y}^2+q_z^2}}{600*273.15*c(T,z)} \\Rightarrow \\dfrac{dq_z}{dz}=\\dfrac{331^2\\sqrt{q_{x}^2+q_{y}^2+q_z^2}q_z}{600*273.15*c(T,z)}$\n",
    "\n",
    "Con $\\dfrac{dt}{d\\tau}=1$ y la c.i. $\\tau(x,y,z=Source)=0$ obtenemos $\\tau=| \\int \\vec{q} d \\vec{s} | \\approx \\Sigma |\\vec{q_i}.\\vec{\\Delta {s_i}}  |  $ siendo s cada elemento diferencial de la trayectoria recorrida por el rayo acústico."
   ]
  },
  {
   "cell_type": "code",
   "execution_count": 1,
   "id": "1f959cb5",
   "metadata": {},
   "outputs": [
    {
     "data": {
      "text/plain": [
       "c_air_TZ (generic function with 1 method)"
      ]
     },
     "execution_count": 1,
     "metadata": {},
     "output_type": "execute_result"
    }
   ],
   "source": [
    "function c_air_TZ(T_z0,z)\n",
    "    c_air=331*sqrt((T_z0+273.15-z/300)/273.15) #Introduzco T_Z0 en grados centígrados por comodidad\n",
    "    return c_air\n",
    "end"
   ]
  },
  {
   "cell_type": "markdown",
   "id": "9f8732d4",
   "metadata": {},
   "source": [
    "Resolvemos la ODE: $\\dfrac{dq_x}{dz}=\\dfrac{dq_y}{dz}=0 ;\\dfrac{dq_z}{dz}=\\dfrac{331^2\\sqrt{q_{x}^2+q_{y}^2+q_z^2}q_z}{600*273.15*c(T,z)}$"
   ]
  },
  {
   "cell_type": "code",
   "execution_count": 2,
   "id": "d4d37931",
   "metadata": {},
   "outputs": [
    {
     "name": "stdout",
     "output_type": "stream",
     "text": [
      " 25.427650 seconds (24.37 M allocations: 1.709 GiB, 4.48% gc time, 13.80% compilation time: 1% of which was recompilation)\n"
     ]
    }
   ],
   "source": [
    "@time begin\n",
    "#############################################\n",
    "using DifferentialEquations\n",
    "\n",
    "#Argumentos y datos\n",
    "v_wind=[5.,-10,-5.];\n",
    "T=20.;  \n",
    "SourcePoint=[0.,0.,0.];\n",
    "ReceiverPoint=[5000.,5000.,5000.];\n",
    "\n",
    "#Definimos la ODE \n",
    "    function q!(dq, q, p, z)\n",
    "        c=c_air_TZ(p[1],z)\n",
    "        dq[1]=0\n",
    "        dq[2]=0\n",
    "        dq[3] = 331^2*sqrt(q[1]^2 + q[2]^2 + q[3]^2)*q[3] / (600 * 273.15 *c)\n",
    "    end\n",
    "    theta=rad2deg(acos(1/sqrt(3)))\n",
    "    phi=45 #Calculados directamente\n",
    "    # Definimos las condiciones iniciales y los parámetros\n",
    "    q0=1/(c_air_TZ(T, SourcePoint[3])+(v_wind[1]*cosd(phi)+v_wind[2]*sind(phi))*sind(theta))\n",
    "    q_x = q0*cosd(phi)*sind(theta)\n",
    "    q_y = q0*sind(phi)*sind(theta)\n",
    "    q_z = q0*cosd(theta)\n",
    "    u0 = [q_x, q_y, q_z]\n",
    "    \n",
    "\n",
    "    # Definimps el rango de valores de z. Debemos tener cuidado al optimizar, dado\n",
    "    # que si algún valor (coordenada z) optimizado está fuera de zspan no podemos evaluarlo.\n",
    "    zspan = (SourcePoint[3], ReceiverPoint[3])\n",
    "\n",
    "    # Definimos los parámetros\n",
    "    p = [T] \n",
    "\n",
    "    # Definir el problema ODE\n",
    "    prob = ODEProblem(q!, u0, zspan, p)\n",
    "    \n",
    "    #Resolvemos el problema ODE almacenando en los valores de Z que se corresponden a las uniones de los segmentos.\n",
    "    #z_values=SegmentsCoords[:,3]\n",
    "    #, saveat=z_values\n",
    "    sol = solve(prob, RK4(),dt=1e-3)\n",
    "    #Mirar documentacion para obtener funcion e introducirla como argumento de entrada\n",
    "    \n",
    "    #Guardamos los valores de vec(q)\n",
    "    qx_vals=zeros(length(sol.u))\n",
    "    qy_vals=zeros(length(sol.u))\n",
    "    qz_vals=zeros(length(sol.u))\n",
    "\n",
    "    for i in 1:length(sol.u)\n",
    "        qx_vals[i]=sol.u[i][1]\n",
    "        qy_vals[i]=sol.u[i][2]\n",
    "        qz_vals[i]=sol.u[i][3]\n",
    "    end\n",
    "#########################\n",
    "end"
   ]
  },
  {
   "cell_type": "code",
   "execution_count": 3,
   "id": "65b49906",
   "metadata": {},
   "outputs": [
    {
     "data": {
      "text/plain": [
       "9-element extrapolate(interpolate((::Vector{Float64},), ::Vector{Float64}, Gridded(Linear())), Throw()) with element type Float64:\n",
       " 0.0016980037155087805\n",
       " 0.0016980037252445233\n",
       " 0.001698003822601959\n",
       " 0.0016980047961770292\n",
       " 0.001698014531999111\n",
       " 0.001698111897358504\n",
       " 0.0016990862654346487\n",
       " 0.00170890202527781\n",
       " 0.0017483714615856465"
      ]
     },
     "execution_count": 3,
     "metadata": {},
     "output_type": "execute_result"
    }
   ],
   "source": [
    "using Interpolations\n",
    "###### qx y qy son constantes\n",
    "qx=sum(qx_vals)/length(qx_vals)\n",
    "######\n",
    "qy=sum(qy_vals)/length(qy_vals)\n",
    "######\n",
    "z_values_linear = collect(range(SourcePoint[3], stop=ReceiverPoint[3], length=length(qz_vals)))\n",
    "qz_z_linear=LinearInterpolation(z_values_linear, qz_vals)\n",
    "\n",
    "\n"
   ]
  },
  {
   "cell_type": "code",
   "execution_count": 4,
   "id": "b7ba357f",
   "metadata": {},
   "outputs": [
    {
     "data": {
      "text/plain": [
       "Hamiltonian_l (generic function with 1 method)"
      ]
     },
     "execution_count": 4,
     "metadata": {},
     "output_type": "execute_result"
    }
   ],
   "source": [
    "using DifferentialEquations\n",
    "\n",
    "function Hamiltonian_l(qx::Float64,qy::Float64,qz_z_linear, SegmentsCoords::Array{Float64, 2})\n",
    "   \n",
    "    #Calculamos los traveltime entre cada segmento tomando la media de las q entre cada segmento (aproximación regla Trapecio)\n",
    "    taus=zeros(length(SegmentsCoords[:,1])-1)\n",
    "    for i in 1:(length(SegmentsCoords[:,1])-1)\n",
    "        #qx y qy son constantes, da igual que elemento del vector cojamos. Solo debemos tener cuidado con\n",
    "        aux_x=(SegmentsCoords[i+1,1]-SegmentsCoords[i,1])\n",
    "        aux_y=(SegmentsCoords[i+1,2]-SegmentsCoords[i,2])\n",
    "        # La función de interpolación cúbica puede extrapolarse ligeramente fuera del rango de los datos\n",
    "        #debido a la naturaleza de la interpolación cúbica.  Iterando la condición inicial lleva a BoundsError. Debo emplear \n",
    "        #clamp() para asegurarme que interpola dentro del rango\n",
    "        z1 = clamp(SegmentsCoords[i,3], SegmentsCoords[1,3], SegmentsCoords[end,3])\n",
    "        z2 = clamp(SegmentsCoords[i+1,3], SegmentsCoords[1,3], SegmentsCoords[end,3])\n",
    "        aux_z=(SegmentsCoords[i+1,3]-SegmentsCoords[i,3])\n",
    "        q_m=sqrt(qx^2+qy^2+(qz_z_linear(z1)+qz_z_linear(z2))^2/4)\n",
    "        taus[i]=q_m*sqrt(aux_x^2+aux_y^2+aux_z^2)\n",
    "    end\n",
    "    \n",
    "    #Sumamos el travel time de cada segmento para obtener el total\n",
    "    total_travel_time = sum(taus)\n",
    "        \n",
    "    return total_travel_time\n",
    "end"
   ]
  },
  {
   "cell_type": "code",
   "execution_count": 8,
   "id": "b89c0556",
   "metadata": {},
   "outputs": [
    {
     "name": "stdout",
     "output_type": "stream",
     "text": [
      "The total travel time for the segmented trajectory is: 25.493379951972226 seconds\n",
      "  0.483286 seconds (2.11 M allocations: 211.690 MiB, 18.74% gc time, 25.02% compilation time: 82% of which was recompilation)\n",
      "Iteraciones realizadas: 2\n",
      "Evaluaciones de la función: 4031\n"
     ]
    }
   ],
   "source": [
    "@time begin\n",
    "using Optim\n",
    "\n",
    "#Argumentos y datos\n",
    "v_wind=[5.,-10,-5.];\n",
    "T=20.;  \n",
    "SourcePoint=[0.,0.,0.];\n",
    "ReceiverPoint=[5000.,5000.,5000.];\n",
    "\n",
    "#Optimizamos las coordenadas de las uniones entre segmentos\n",
    "function objective(SegmentsCoords)\n",
    "    # Primero nos aseguramos de que SourcePoint y ReceiverPoint no se optimizan pero que se incluyen en SegmentsCoords\n",
    "    FullSegmentsCoords = vcat(reshape(SourcePoint, 1, :), SegmentsCoords, reshape(ReceiverPoint, 1, :))\n",
    "    traveltime = Hamiltonian_l(qx, qy, qz_z_linear, FullSegmentsCoords)\n",
    "    return traveltime\n",
    "end\n",
    "\n",
    "#Recta troceada desde la fuente al receptor como condición inicial\n",
    "num_segments=10;\n",
    "initial_SegmentsCoords = zeros(num_segments-1, 3); \n",
    "for i in 1:num_segments-1\n",
    "    alpha = i / num_segments\n",
    "    initial_SegmentsCoords[i, :] = SourcePoint + alpha * (ReceiverPoint - SourcePoint) \n",
    "end\n",
    "\n",
    "# Tenemos que tomar restricciones \"de caja\" para que los valores de z (SegmentsCoords[:,3]) \n",
    "#optimizados no esten fuera del intervalo de solución (zspan)\n",
    "lower_bounds = fill(SourcePoint[3], size(initial_SegmentsCoords))\n",
    "upper_bounds = fill(ReceiverPoint[3], size(initial_SegmentsCoords))\n",
    "\n",
    "# Optimizador interno. Limited-memory Broyden-Fletcher-Goldfarb-Shanno\n",
    "#método de optimización de segundo orden valido para minimizar funciones no lineales.\n",
    "inner_optimizer = LBFGS()\n",
    "\n",
    "# Optimizador con las restricciones \"de caja\"\n",
    "optimizer_with_constraints = Fminbox(inner_optimizer)\n",
    "\n",
    "# Optimizamos con las restricciones\n",
    "result = optimize(objective, lower_bounds, upper_bounds, initial_SegmentsCoords, optimizer_with_constraints)\n",
    "\n",
    "#Resultado de la optimización\n",
    "Optimal_SegmentsCoords = result.minimizer;\n",
    "    \n",
    "#Incluimos la fuente y el receptor a las coordenadas optimizadas\n",
    "Full_Optimal_SegmentsCoords= vcat(reshape(SourcePoint, 1, :), Optimal_SegmentsCoords, reshape(ReceiverPoint, 1, :))\n",
    "    \n",
    "#Evaluamos el traveltime para la trayectoria optimizada\n",
    "traveltime =Hamiltonian_l(qx, qy, qz_z_linear, Full_Optimal_SegmentsCoords)\n",
    "println(\"The total travel time for the segmented trajectory is: \", traveltime, \" seconds\")\n",
    "end\n",
    "\n",
    "println(\"Iteraciones realizadas: \", result.iterations)\n",
    "println(\"Evaluaciones de la función: \", result.f_calls)\n",
    "\n"
   ]
  },
  {
   "cell_type": "code",
   "execution_count": 9,
   "id": "54fb2b75",
   "metadata": {},
   "outputs": [
    {
     "data": {
      "text/plain": [
       "11×3 Matrix{Float64}:\n",
       "    0.0       0.0       0.0\n",
       "  504.471   504.471   503.107\n",
       " 1002.78   1002.78   1000.07\n",
       " 1502.72   1502.72   1498.65\n",
       " 2000.95   2000.95   1995.53\n",
       " 2506.79   2506.79   2500.0\n",
       " 3133.47   3133.47   3125.0\n",
       " 3753.18   3753.18   3743.23\n",
       " 3759.98   3759.98   3750.02\n",
       " 4384.45   4384.45   4375.0\n",
       " 5000.0    5000.0    5000.0"
      ]
     },
     "execution_count": 9,
     "metadata": {},
     "output_type": "execute_result"
    }
   ],
   "source": [
    "Full_Optimal_SegmentsCoords"
   ]
  },
  {
   "cell_type": "code",
   "execution_count": 10,
   "id": "d8a5bde5",
   "metadata": {},
   "outputs": [
    {
     "name": "stdout",
     "output_type": "stream",
     "text": [
      "Num segments: 2. Traveltime:25.50428691098754 s\n",
      "Iteraciones realizadas: 1. Evaluaciones de la función: 72\n",
      "Num segments: 4. Traveltime:25.49350754090566 s\n",
      "Iteraciones realizadas: 1. Evaluaciones de la función: 195\n",
      "Num segments: 8. Traveltime:25.493388986867906 s\n",
      "Iteraciones realizadas: 2. Evaluaciones de la función: 2704\n",
      "Num segments: 16. Traveltime:25.49338229836212 s\n",
      "Iteraciones realizadas: 1. Evaluaciones de la función: 1523\n",
      "Num segments: 32. Traveltime:25.49337951016519 s\n",
      "Iteraciones realizadas: 1. Evaluaciones de la función: 1199\n",
      "  1.687205 seconds (4.48 M allocations: 725.142 MiB, 13.83% gc time, 10.13% compilation time: 100% of which was recompilation)\n"
     ]
    }
   ],
   "source": [
    "@time begin\n",
    "using Optim\n",
    "#Argumentos y datos\n",
    "v_wind=[5.,-10,-5.];\n",
    "T=20.;  \n",
    "SourcePoint=[0.,0.,0.];\n",
    "ReceiverPoint=[5000.,5000.,5000.];\n",
    "\n",
    "#Optimizamos las coordenadas de las uniones entre segmentos\n",
    "function objective(SegmentsCoords)\n",
    "    # Primero nos aseguramos de que SourcePoint y ReceiverPoint no se optimizan pero que se incluyen en SegmentsCoords\n",
    "    FullSegmentsCoords = vcat(reshape(SourcePoint, 1, :), SegmentsCoords, reshape(ReceiverPoint, 1, :))\n",
    "    traveltime = Hamiltonian_l(qx, qy, qz_z_linear, FullSegmentsCoords)\n",
    "    return traveltime\n",
    "end\n",
    "\n",
    "#Definimos una matriz de matrices Plot_Coords del tamaño del bucle para luego graficar la distancia de los puntos a una recta\n",
    "Plot_Coords = Matrix{Matrix{Float64}}(undef, 5, 1)\n",
    "\n",
    "#Iteramos la condición inicial\n",
    "initial_SegmentsCoords = zeros(1, 3); #c.i.\n",
    "for i in 1:5\n",
    "    if i == 1\n",
    "        initial_SegmentsCoords[1, :] = SourcePoint + (ReceiverPoint - SourcePoint) / 2\n",
    "    end\n",
    "        \n",
    "    lower_bounds = fill(SourcePoint[3], size(initial_SegmentsCoords))\n",
    "    upper_bounds = fill(ReceiverPoint[3], size(initial_SegmentsCoords))\n",
    "    inner_optimizer = LBFGS()\n",
    "    optimizer_with_constraints = Fminbox(inner_optimizer)\n",
    "    result = optimize(objective, lower_bounds, upper_bounds, initial_SegmentsCoords, optimizer_with_constraints)\n",
    "    Optimal_SegmentsCoords = result.minimizer;\n",
    "    Full_Optimal_SegmentsCoords= vcat(reshape(SourcePoint, 1, :), Optimal_SegmentsCoords, reshape(ReceiverPoint, 1, :))\n",
    "        \n",
    "    #Almacenamos las coordenadas de la optimización incluyendo la fuente y el receptor para luego graficar\n",
    "    Plot_Coords[i]=Full_Optimal_SegmentsCoords\n",
    "    \n",
    "    #Evaluamos el travel time para los distintos números de segmentos planteados\n",
    "    total_time = Hamiltonian_l(qx, qy, qz_z_linear, Full_Optimal_SegmentsCoords)\n",
    "    println(\"Num segments: \", Int(size(Full_Optimal_SegmentsCoords, 1) - 1), \". Traveltime:\", total_time, \" s\")\n",
    "    println(\"Iteraciones realizadas: \", result.iterations, \". Evaluaciones de la función: \", result.f_calls)\n",
    "        \n",
    "\n",
    "    copy_Optimal_SegmentsCoords = zeros(2 * size(Optimal_SegmentsCoords, 1) + 1, 3)\n",
    "    \n",
    "    # Calculamos copy_optimal_SegmentsCoords \n",
    "    for j in 1:2 * size(Optimal_SegmentsCoords, 1) + 1\n",
    "        if j==1\n",
    "            copy_Optimal_SegmentsCoords[j,:]=(SourcePoint+Optimal_SegmentsCoords[1,:])/2\n",
    "        elseif j==2*size(Optimal_SegmentsCoords,1)+1\n",
    "            copy_Optimal_SegmentsCoords[j,:]=(Optimal_SegmentsCoords[end,:]+ReceiverPoint)/2\n",
    "        else\n",
    "            if iseven(j)\n",
    "                copy_Optimal_SegmentsCoords[j,:]=Optimal_SegmentsCoords[Int(j/2),:]\n",
    "            else\n",
    "                copy_Optimal_SegmentsCoords[j,:]=(Optimal_SegmentsCoords[Int((j-1)/2),:]+Optimal_SegmentsCoords[Int((j+1)/2),:])/2\n",
    "            end\n",
    "        end\n",
    "    end\n",
    "    #Aquí iteramos la condición inicial\n",
    "    initial_SegmentsCoords = copy(copy_Optimal_SegmentsCoords)\n",
    "end\n",
    "end\n",
    "\n",
    "\n"
   ]
  },
  {
   "cell_type": "code",
   "execution_count": 13,
   "id": "b58e6094",
   "metadata": {
    "scrolled": true
   },
   "outputs": [
    {
     "data": {
      "text/plain": [
       "\"C:\\\\Users\\\\Miguel\\\\Desktop\\\\TFM\\\\Codigos Julia\\\\LISpatialGradientWcte.png\""
      ]
     },
     "execution_count": 13,
     "metadata": {},
     "output_type": "execute_result"
    }
   ],
   "source": [
    "#Ploteamos la distancia de los puntos a x=y=z(ecuación de la recta para la fuente y el receptor propuesto) para cada Z\n",
    "\n",
    "#No se puede plantear la formula de la distancia de un punto a una recta dado que si\n",
    "#por ejemplo se obtiene la coordenada (15,15,10) propondríamos la distancia a la trayectoria recta que pase por el (10,10,10).\n",
    "\n",
    "#Al plantear la distancia de un punto a una recta para cada Z, es decir, de un punto a la recta x=y, el punto (15,15) tendría\n",
    "#distancia nula a esa recta. Por tanto, calculamos la distancia como el módulo de la resta de vectores de las coordenadas X,Y. \n",
    "\n",
    "using Plots \n",
    "\n",
    "plot(legend=:topleft)\n",
    "\n",
    "z2=Plot_Coords[1][:, 3]\n",
    "aux2=sqrt.((Plot_Coords[1][:, 1]-Plot_Coords[1][:, 3]).^2+(Plot_Coords[1][:, 2]-Plot_Coords[1][:, 3]).^2)\n",
    "plot!(z2,aux2, label=\"2 segments\", shape=:diamond)\n",
    "\n",
    "z4=Plot_Coords[2][:, 3]\n",
    "aux4=sqrt.((Plot_Coords[2][:, 1]-Plot_Coords[2][:, 3]).^2+(Plot_Coords[2][:, 2]-Plot_Coords[2][:, 3]).^2)\n",
    "plot!(z4,aux4, label=\"4 segments\", shape=:square)\n",
    "\n",
    "z8=Plot_Coords[3][:, 3]\n",
    "aux8=sqrt.((Plot_Coords[3][:, 1]-Plot_Coords[3][:, 3]).^2+(Plot_Coords[3][:, 2]-Plot_Coords[3][:, 3]).^2)\n",
    "plot!(z8,aux8, label=\"8 segments\", shape=:star6)\n",
    "\n",
    "z16=Plot_Coords[4][:, 3]\n",
    "aux16=sqrt.((Plot_Coords[4][:, 1]-Plot_Coords[4][:, 3]).^2+(Plot_Coords[4][:, 2]-Plot_Coords[4][:, 3]).^2)\n",
    "plot!(z16,aux16, label=\"16 segments\", shape=:octagon)\n",
    "\n",
    "z32=Plot_Coords[5][:, 3]\n",
    "aux32=sqrt.((Plot_Coords[5][:, 1]-Plot_Coords[5][:, 3]).^2+(Plot_Coords[5][:, 2]-Plot_Coords[5][:, 3]).^2)\n",
    "plot!(z32,aux32, label=\"32 segments\", shape=:circle)\n",
    "\n",
    "xlabel!(\"z (m)\")\n",
    "ylabel!(\" Deviation to a straight line (m)\")\n",
    "#savefig(\"LISpatialGradientWcte.png\")"
   ]
  },
  {
   "cell_type": "code",
   "execution_count": 15,
   "id": "abcc3c8a",
   "metadata": {},
   "outputs": [
    {
     "data": {
      "text/plain": [
       "\"C:\\\\Users\\\\Miguel\\\\Desktop\\\\TFM\\\\Codigos Julia\\\\LISpatialGradientWcteAmpliada.png\""
      ]
     },
     "execution_count": 15,
     "metadata": {},
     "output_type": "execute_result"
    }
   ],
   "source": [
    "#Ploteamos la distancia de los puntos a x=y=z(ecuación de la recta para la fuente y el receptor propuesto) para cada Z\n",
    "\n",
    "#No se puede plantear la formula de la distancia de un punto a una recta dado que si\n",
    "#por ejemplo se obtiene la coordenada (15,15,10) propondríamos la distancia a la trayectoria recta que pase por el (10,10,10).\n",
    "\n",
    "#Al plantear la distancia de un punto a una recta para cada Z, es decir, de un punto a la recta x=y, el punto (15,15) tendría\n",
    "#distancia nula a esa recta. Por tanto, calculamos la distancia como el módulo de la resta de vectores de las coordenadas X,Y. \n",
    "\n",
    "using Plots \n",
    "\n",
    "plot(legend=:topleft)\n",
    "\n",
    "z2=Plot_Coords[1][:, 3]\n",
    "aux2=sqrt.((Plot_Coords[1][:, 1]-Plot_Coords[1][:, 3]).^2+(Plot_Coords[1][:, 2]-Plot_Coords[1][:, 3]).^2)\n",
    "plot!(z2,aux2, label=\"2 segments\", shape=:diamond)\n",
    "\n",
    "z4=Plot_Coords[2][:, 3]\n",
    "aux4=sqrt.((Plot_Coords[2][:, 1]-Plot_Coords[2][:, 3]).^2+(Plot_Coords[2][:, 2]-Plot_Coords[2][:, 3]).^2)\n",
    "plot!(z4,aux4, label=\"4 segments\", shape=:square)\n",
    "\n",
    "z8=Plot_Coords[3][:, 3]\n",
    "aux8=sqrt.((Plot_Coords[3][:, 1]-Plot_Coords[3][:, 3]).^2+(Plot_Coords[3][:, 2]-Plot_Coords[3][:, 3]).^2)\n",
    "plot!(z8,aux8, label=\"8 segments\", shape=:star6)\n",
    "\n",
    "z16=Plot_Coords[4][:, 3]\n",
    "aux16=sqrt.((Plot_Coords[4][:, 1]-Plot_Coords[4][:, 3]).^2+(Plot_Coords[4][:, 2]-Plot_Coords[4][:, 3]).^2)\n",
    "plot!(z16,aux16, label=\"16 segments\", shape=:octagon)\n",
    "\n",
    "z32=Plot_Coords[5][:, 3]\n",
    "aux32=sqrt.((Plot_Coords[5][:, 1]-Plot_Coords[5][:, 3]).^2+(Plot_Coords[5][:, 2]-Plot_Coords[5][:, 3]).^2)\n",
    "plot!(z32,aux32, label=\"32 segments\", shape=:circle)\n",
    "xlims!(3700,4000)\n",
    "ylims!(13.90,14.40)\n",
    "xlabel!(\"z (m)\")\n",
    "ylabel!(\" Deviation to a straight line (m)\")\n",
    "#savefig(\"LISpatialGradientWcteAmpliada.png\")"
   ]
  },
  {
   "cell_type": "code",
   "execution_count": 25,
   "id": "41bdbc27",
   "metadata": {},
   "outputs": [
    {
     "data": {
      "text/plain": [
       "17×3 Matrix{Float64}:\n",
       "    0.0       0.0       0.0\n",
       "  431.175   431.175  1249.99\n",
       "  862.351   862.351  2499.99\n",
       " 1175.28   1175.28   2812.49\n",
       " 1488.2    1488.2    3125.0\n",
       " 1800.4    1800.4    3400.02\n",
       " 2112.59   2112.59   3675.03\n",
       " 2424.78   2424.78   3712.53\n",
       " 2736.98   2736.98   3750.02\n",
       " 3049.18   3049.18   4024.48\n",
       " 3361.37   3361.37   4298.94\n",
       " 3673.56   3673.56   4336.98\n",
       " 3985.76   3985.76   4375.02\n",
       " 4298.4    4298.4    4649.4\n",
       " 4611.04   4611.04   4923.77\n",
       " 4805.52   4805.52   4961.89\n",
       " 5000.0    5000.0    5000.0"
      ]
     },
     "execution_count": 25,
     "metadata": {},
     "output_type": "execute_result"
    }
   ],
   "source": [
    "Plot_Coords[4]"
   ]
  },
  {
   "cell_type": "code",
   "execution_count": null,
   "id": "5900c5ea",
   "metadata": {},
   "outputs": [],
   "source": []
  }
 ],
 "metadata": {
  "@webio": {
   "lastCommId": null,
   "lastKernelId": null
  },
  "kernelspec": {
   "display_name": "Julia 1.9.4",
   "language": "julia",
   "name": "julia-1.9"
  },
  "language_info": {
   "file_extension": ".jl",
   "mimetype": "application/julia",
   "name": "julia",
   "version": "1.9.4"
  }
 },
 "nbformat": 4,
 "nbformat_minor": 5
}
