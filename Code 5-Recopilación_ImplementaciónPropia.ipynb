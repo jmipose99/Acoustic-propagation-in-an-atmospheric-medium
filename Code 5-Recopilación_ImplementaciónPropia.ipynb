{
 "cells": [
  {
   "cell_type": "code",
   "execution_count": 1,
   "id": "ae2f60bf",
   "metadata": {},
   "outputs": [
    {
     "name": "stderr",
     "output_type": "stream",
     "text": [
      "\u001b[32m\u001b[1m    Updating\u001b[22m\u001b[39m registry at `C:\\Users\\Miguel\\.julia\\registries\\General.toml`\n",
      "\u001b[32m\u001b[1m   Resolving\u001b[22m\u001b[39m package versions...\n",
      "\u001b[32m\u001b[1m  No Changes\u001b[22m\u001b[39m to `C:\\Users\\Miguel\\.julia\\environments\\v1.9\\Project.toml`\n",
      "\u001b[32m\u001b[1m  No Changes\u001b[22m\u001b[39m to `C:\\Users\\Miguel\\.julia\\environments\\v1.9\\Manifest.toml`\n"
     ]
    }
   ],
   "source": [
    "import Pkg\n",
    "Pkg.add(\"DifferentialEquations\")"
   ]
  },
  {
   "cell_type": "markdown",
   "id": "5899e18e",
   "metadata": {},
   "source": [
    "2 segmentos"
   ]
  },
  {
   "cell_type": "code",
   "execution_count": 7,
   "id": "a5079a92",
   "metadata": {},
   "outputs": [
    {
     "name": "stdout",
     "output_type": "stream",
     "text": [
      "The total travel time for the segmented trajectory is: 5.094267081084933 seconds\n",
      "[500.0 500.0 500.0]\n"
     ]
    }
   ],
   "source": [
    "using LinearAlgebra\n",
    "function segmented_trajectory(c_air::Float64, v_wind::Array{Float64,1},\n",
    "        SourcePoint::Array{Float64,1}, ReceiverPoint::Array{Float64,1},\n",
    "        SegmentsCoords::Array{Float64,2})\n",
    "    \n",
    "    num_segments = size(SegmentsCoords, 1)\n",
    "    \n",
    "    # Initialize the total travel time\n",
    "    total_travel_time = 0.0\n",
    "\n",
    "    # Iterate over the segments (including the extra segment)\n",
    "    for i in 1:num_segments+1\n",
    "        if i == 1\n",
    "            # First segment: SourcePoint to SegmentsCoords[1, :]\n",
    "            start_point = SourcePoint\n",
    "            end_point = SegmentsCoords[i, :]\n",
    "        elseif i == num_segments+1\n",
    "            # Last segment: SegmentsCoords[num_segments, :] to ReceiverPoint\n",
    "            start_point = SegmentsCoords[num_segments, :]\n",
    "            end_point = ReceiverPoint\n",
    "        else\n",
    "            # Intermediate segments\n",
    "            start_point = SegmentsCoords[i-1, :]\n",
    "            end_point = SegmentsCoords[i, :]\n",
    "        end\n",
    "        \n",
    "        vector_i = end_point - start_point\n",
    "        n_i = vector_i / norm(vector_i)\n",
    "        \n",
    "        c_1 = c_air + dot(v_wind, n_i)\n",
    "        c_2 = c_air + dot(v_wind, n_i)\n",
    "        \n",
    "        # Add travel time of the current segment to the total time\n",
    "        total_travel_time += norm(vector_i) * (2 / (c_1+c_2))\n",
    "    end\n",
    "    return total_travel_time\n",
    "end\n",
    "using Optim\n",
    "#Arguments\n",
    "c_air=340.;\n",
    "v_wind=[0.,0.,0.];\n",
    "SourcePoint=[0.,0.,0.];\n",
    "ReceiverPoint=[1000.,1000.,1000.];\n",
    "#Optimize the coordinates of the union of segments\n",
    "function objective(SegmentsCoords)\n",
    "    traveltime = segmented_trajectory(c_air, v_wind, SourcePoint, ReceiverPoint, SegmentsCoords)\n",
    "    return traveltime\n",
    "end\n",
    "\n",
    "num_segments=2;\n",
    "initial_SegmentsCoords = zeros(num_segments-1, 3); \n",
    "for i in 1:num_segments-1\n",
    "    alpha = i / num_segments\n",
    "    initial_SegmentsCoords[i, :] = SourcePoint + alpha * (ReceiverPoint - SourcePoint) #Recta troceada \n",
    "    #desde la fuente al receptor como condición inicial\n",
    "end\n",
    "result = optimize(objective, initial_SegmentsCoords);\n",
    "optimal_SegmentsCoords = result.minimizer;\n",
    "total_time = segmented_trajectory(c_air, v_wind, SourcePoint, ReceiverPoint, optimal_SegmentsCoords)\n",
    "println(\"The total travel time for the segmented trajectory is: \", total_time, \" seconds\")\n",
    "println(optimal_SegmentsCoords)"
   ]
  },
  {
   "cell_type": "markdown",
   "id": "ec3b5c30",
   "metadata": {},
   "source": [
    "Depende de Z la velocidad del sonido"
   ]
  },
  {
   "cell_type": "code",
   "execution_count": 8,
   "id": "b8cb9f71",
   "metadata": {},
   "outputs": [
    {
     "data": {
      "text/plain": [
       "c_air_TZ (generic function with 1 method)"
      ]
     },
     "execution_count": 8,
     "metadata": {},
     "output_type": "execute_result"
    }
   ],
   "source": [
    "function c_air_TZ(T_z0,z)\n",
    "    c_air=331*sqrt((T_z0+273.15-z/300)/273.15) #Introduzco T_Z0 en grados centígrados por comodidad\n",
    "    return c_air\n",
    "end"
   ]
  },
  {
   "cell_type": "code",
   "execution_count": 9,
   "id": "000902cb",
   "metadata": {},
   "outputs": [
    {
     "name": "stdout",
     "output_type": "stream",
     "text": [
      "The total travel time for the segmented trajectory is: 5.065557660469514 seconds\n",
      "[531.7802114482043 531.8151321821044 529.6639876008126]\n"
     ]
    }
   ],
   "source": [
    "using LinearAlgebra\n",
    "function segmented_trajectory_TZ(c_air_TZ, T,  v_wind::Array{Float64, 1},\n",
    "        SourcePoint::Array{Float64, 1}, ReceiverPoint::Array{Float64, 1},\n",
    "        SegmentsCoords::Array{Float64, 2})\n",
    "    \n",
    "    # Check if all elements in SegmentsCoords are positive\n",
    "    if any(SegmentsCoords[:,3] .< 0)\n",
    "        throw(ArgumentError(\"SegmentsCoords must contain only positive floats\"))\n",
    "    end\n",
    "\n",
    "    num_segments = size(SegmentsCoords, 1)\n",
    "    # Initialize the total travel time\n",
    "    total_travel_time = 0.0\n",
    "    \n",
    "    # Iterate over the segments (including the extra segment)\n",
    "    for i in 1:num_segments+1\n",
    "        if i == 1\n",
    "            # First segment: SourcePoint to SegmentsCoords[1, :]\n",
    "            start_point = SourcePoint\n",
    "            end_point = SegmentsCoords[i, :]\n",
    "        elseif i == num_segments+1\n",
    "            # Last segment: SegmentsCoords[num_segments, :] to ReceiverPoint\n",
    "            start_point = SegmentsCoords[num_segments, :]\n",
    "            end_point = ReceiverPoint\n",
    "        else\n",
    "            # Intermediate segments\n",
    "            start_point = SegmentsCoords[i-1, :]\n",
    "            end_point = SegmentsCoords[i, :]\n",
    "        end\n",
    "        \n",
    "        # Calculate characteristics of the current segment\n",
    "        vector_i = end_point - start_point\n",
    "        n_i = vector_i / norm(vector_i)\n",
    "        \n",
    "        c_1 = c_air_TZ(T, start_point[3]) + dot(v_wind, n_i)\n",
    "        c_2 = c_air_TZ(T, end_point[3]) + dot(v_wind, n_i)\n",
    "        \n",
    "        # Add travel time of the current segment to the total time\n",
    "        total_travel_time += norm(vector_i) * (2 / (c_1+c_2))\n",
    "    end\n",
    "    return total_travel_time\n",
    "end\n",
    "using Optim\n",
    "#Arguments\n",
    "T=20.;\n",
    "v_wind=[0.,0.,0.];\n",
    "SourcePoint=[0.,0.,0.];\n",
    "ReceiverPoint=[1000.,1000.,1000.];\n",
    "#Optimize the coordinates of the union of segments\n",
    "function objective(SegmentsCoords)\n",
    "    traveltime = segmented_trajectory_TZ(c_air_TZ, T , v_wind, SourcePoint, ReceiverPoint, SegmentsCoords)\n",
    "    return traveltime\n",
    "end\n",
    "\n",
    "num_segments=2;\n",
    "initial_SegmentsCoords = zeros(num_segments-1, 3); \n",
    "for i in 1:num_segments-1\n",
    "    alpha = i / num_segments\n",
    "    initial_SegmentsCoords[i, :] = SourcePoint + alpha * (ReceiverPoint - SourcePoint) #Recta troceada \n",
    "    #desde la fuente al receptor como condición inicial\n",
    "end\n",
    "result = optimize(objective, initial_SegmentsCoords);\n",
    "optimal_SegmentsCoords = result.minimizer;\n",
    "total_time = segmented_trajectory_TZ(c_air_TZ, T, v_wind, SourcePoint, ReceiverPoint, optimal_SegmentsCoords)\n",
    "println(\"The total travel time for the segmented trajectory is: \", total_time, \" seconds\")\n",
    "println(optimal_SegmentsCoords)"
   ]
  },
  {
   "cell_type": "code",
   "execution_count": 10,
   "id": "2398998a",
   "metadata": {},
   "outputs": [
    {
     "name": "stdout",
     "output_type": "stream",
     "text": [
      "The total travel time for the segmented trajectory is: 5.065554330463617 seconds\n",
      "[107.36167955374614 107.39593533443515 106.55814164194257; 210.418024160734 210.47854431301943 209.03066992368247; 312.37603632594335 312.45466190991095 310.57795168703063; 413.0915408392108 413.1893743470757 411.06238857189794; 513.7391812709276 513.8408828655319 511.64953788526276; 613.156653326566 613.2520064799917 611.1689701932883; 713.2476161867609 713.3218526296733 711.5370694382818; 813.5566152508934 813.6095630316939 812.2862516929229; 913.2709345896372 913.29826159589 912.6060446949131]\n"
     ]
    }
   ],
   "source": [
    "function c_air_TZ(T_z0,z)\n",
    "    c_air=331*sqrt((T_z0+273.15-z/300)/273.15) #Introduzco T_Z0 en grados centígrados por comodidad\n",
    "    return c_air\n",
    "end\n",
    "using LinearAlgebra\n",
    "function segmented_trajectory_TZ(c_air_TZ, T,  v_wind::Array{Float64, 1},\n",
    "        SourcePoint::Array{Float64, 1}, ReceiverPoint::Array{Float64, 1},\n",
    "        SegmentsCoords::Array{Float64, 2})\n",
    "    \n",
    "    # Check if all elements in SegmentsCoords are positive\n",
    "    if any(SegmentsCoords[:,3] .< 0)\n",
    "        throw(ArgumentError(\"SegmentsCoords must contain only positive floats\"))\n",
    "    end\n",
    "\n",
    "    num_segments = size(SegmentsCoords, 1)\n",
    "    # Initialize the total travel time\n",
    "    total_travel_time = 0.0\n",
    "    \n",
    "    # Iterate over the segments (including the extra segment)\n",
    "    for i in 1:num_segments+1\n",
    "        if i == 1\n",
    "            # First segment: SourcePoint to SegmentsCoords[1, :]\n",
    "            start_point = SourcePoint\n",
    "            end_point = SegmentsCoords[i, :]\n",
    "        elseif i == num_segments+1\n",
    "            # Last segment: SegmentsCoords[num_segments, :] to ReceiverPoint\n",
    "            start_point = SegmentsCoords[num_segments, :]\n",
    "            end_point = ReceiverPoint\n",
    "        else\n",
    "            # Intermediate segments\n",
    "            start_point = SegmentsCoords[i-1, :]\n",
    "            end_point = SegmentsCoords[i, :]\n",
    "        end\n",
    "        \n",
    "        # Calculate characteristics of the current segment\n",
    "        vector_i = end_point - start_point\n",
    "        n_i = vector_i / norm(vector_i)\n",
    "        \n",
    "        c_1 = c_air_TZ(T, start_point[3]) + dot(v_wind, n_i)\n",
    "        c_2 = c_air_TZ(T, end_point[3]) + dot(v_wind, n_i)\n",
    "        \n",
    "        # Add travel time of the current segment to the total time\n",
    "        total_travel_time += norm(vector_i) * (2 / (c_1+c_2))\n",
    "    end\n",
    "    return total_travel_time\n",
    "end\n",
    "using Optim\n",
    "#Arguments\n",
    "T=20.;\n",
    "v_wind=[0.,0.,0.];\n",
    "SourcePoint=[0.,0.,0.];\n",
    "ReceiverPoint=[1000.,1000.,1000.];\n",
    "#Optimize the coordinates of the union of segments\n",
    "function objective(SegmentsCoords)\n",
    "    traveltime = segmented_trajectory_TZ(c_air_TZ, T , v_wind, SourcePoint, ReceiverPoint, SegmentsCoords)\n",
    "    return traveltime\n",
    "end\n",
    "\n",
    "num_segments=10;\n",
    "initial_SegmentsCoords = zeros(num_segments-1, 3); \n",
    "for i in 1:num_segments-1\n",
    "    alpha = i / num_segments\n",
    "    initial_SegmentsCoords[i, :] = SourcePoint + alpha * (ReceiverPoint - SourcePoint) #Recta troceada \n",
    "    #desde la fuente al receptor como condición inicial\n",
    "end\n",
    "result = optimize(objective, initial_SegmentsCoords);\n",
    "optimal_SegmentsCoords = result.minimizer;\n",
    "total_time = segmented_trajectory_TZ(c_air_TZ, T, v_wind, SourcePoint, ReceiverPoint, optimal_SegmentsCoords)\n",
    "println(\"The total travel time for the segmented trajectory is: \", total_time, \" seconds\")\n",
    "println(optimal_SegmentsCoords)"
   ]
  },
  {
   "cell_type": "code",
   "execution_count": 11,
   "id": "40235f7a",
   "metadata": {},
   "outputs": [
    {
     "data": {
      "text/plain": [
       "\"C:\\\\Users\\\\Miguel\\\\Desktop\\\\TFM\\\\Codigos Julia\\\\SegmentedTrajectory.png\""
      ]
     },
     "execution_count": 11,
     "metadata": {},
     "output_type": "execute_result"
    }
   ],
   "source": [
    "using Plots \n",
    "\n",
    "#Tomo para cada z , ecuación de la recta y-x=0\n",
    "F_optimal_SegmentsCoords=vcat(reshape(SourcePoint, 1, :), optimal_SegmentsCoords, reshape(ReceiverPoint, 1, :))\n",
    "z=F_optimal_SegmentsCoords[:, 3]\n",
    "aux=sqrt.((F_optimal_SegmentsCoords[:, 3]-F_optimal_SegmentsCoords[:, 1]).^2+(F_optimal_SegmentsCoords[:, 2]-F_optimal_SegmentsCoords[:, 1]).^2)\n",
    "plot!(z,aux,label=false, markershape=:diamond)\n",
    "xlabel!(\"z (m)\")\n",
    "ylabel!(\"Deviation to the straight line (m)\")\n",
    "savefig(\"SegmentedTrajectory.png\")"
   ]
  },
  {
   "cell_type": "markdown",
   "id": "5958ccd8",
   "metadata": {},
   "source": [
    "Ver hasta que num segments funciona el optimizador"
   ]
  },
  {
   "cell_type": "code",
   "execution_count": 12,
   "id": "c7949042",
   "metadata": {},
   "outputs": [
    {
     "name": "stdout",
     "output_type": "stream",
     "text": [
      "Num segments: 2. Traveltime:5.065557660469514 s\n",
      "Num segments: 3. Traveltime:5.065555710183466 s\n",
      "Num segments: 4. Traveltime:5.065555039856497 s\n",
      "Num segments: 5. Traveltime:5.065554730467388 s\n",
      "Num segments: 6. Traveltime:5.065554556623453 s\n",
      "Num segments: 7. Traveltime:5.065554454030572 s\n",
      "Num segments: 8. Traveltime:5.065554387564779 s\n",
      "Num segments: 9. Traveltime:5.065554342630008 s\n",
      "Num segments: 10. Traveltime:5.065554330463617 s\n",
      "Num segments: 11. Traveltime:5.0655544182695795 s\n",
      "Num segments: 12. Traveltime:5.06555580536549 s\n",
      "Num segments: 13. Traveltime:5.065558548261519 s\n",
      "Num segments: 14. Traveltime:5.065561740738669 s\n",
      "Num segments: 15. Traveltime:5.065562411579639 s\n",
      "Num segments: 16. Traveltime:5.065565547537591 s\n",
      "Num segments: 17. Traveltime:5.065565982369442 s\n",
      "Num segments: 18. Traveltime:5.065566594254764 s\n",
      "Num segments: 19. Traveltime:5.065567008658724 s\n",
      "Num segments: 20. Traveltime:5.065567665831462 s\n",
      "Num segments: 21. Traveltime:5.065567830559983 s\n",
      "Num segments: 22. Traveltime:5.065567892822546 s\n",
      "Num segments: 23. Traveltime:5.06556789531888 s\n",
      "Num segments: 24. Traveltime:5.065567930566437 s\n",
      "Num segments: 25. Traveltime:5.065567897971957 s\n",
      "25 is the maximum number of segments for which Optim optimizes the initial condition\n"
     ]
    }
   ],
   "source": [
    "using Optim\n",
    "#Arguments\n",
    "T=20.;\n",
    "v_wind=[0.,0.,0.];\n",
    "SourcePoint=[0.,0.,0.];\n",
    "ReceiverPoint=[1000.,1000.,1000.];\n",
    "#Optimize the coordinates of the union of segments\n",
    "function objective(SegmentsCoords)\n",
    "    traveltime = segmented_trajectory_TZ(c_air_TZ, T , v_wind, SourcePoint, ReceiverPoint, SegmentsCoords)\n",
    "    return traveltime\n",
    "end\n",
    "\n",
    "for i in 2:50\n",
    "    num_segments=i;\n",
    "    initial_SegmentsCoords = zeros(num_segments-1, 3); \n",
    "    for j in 1:num_segments-1\n",
    "        alpha = j / num_segments\n",
    "        initial_SegmentsCoords[j, :] = SourcePoint + alpha * (ReceiverPoint - SourcePoint) #Recta troceada \n",
    "        #desde la fuente al receptor como condición inicial\n",
    "    end\n",
    "    result = optimize(objective, initial_SegmentsCoords);\n",
    "    optimal_SegmentsCoords = result.minimizer;\n",
    "    total_time = segmented_trajectory_TZ(c_air_TZ, T, v_wind, SourcePoint, ReceiverPoint, optimal_SegmentsCoords)\n",
    "    if optimal_SegmentsCoords == initial_SegmentsCoords\n",
    "        num_segments_stop = num_segments-1\n",
    "        println(num_segments_stop, \" is the maximum number of segments for which Optim optimizes the initial condition\")\n",
    "        break\n",
    "    end\n",
    "    println(\"Num segments: \", num_segments, \". Traveltime:\", total_time, \" s\")\n",
    "end"
   ]
  },
  {
   "cell_type": "markdown",
   "id": "c393136f",
   "metadata": {},
   "source": [
    "Iterar condición inicial"
   ]
  },
  {
   "cell_type": "code",
   "execution_count": 13,
   "id": "bbd78a96",
   "metadata": {},
   "outputs": [
    {
     "name": "stdout",
     "output_type": "stream",
     "text": [
      "Num segments: 2. Traveltime:5.065557660469514 s\n",
      "Num segments: 4. Traveltime:5.065555053550677 s\n",
      "Num segments: 8. Traveltime:5.065554398734178 s\n",
      "Num segments: 16. Traveltime:5.065554313395924 s\n",
      "Num segments: 32. Traveltime:5.065554313395923 s\n",
      "Num segments: 64. Traveltime:5.065554313395924 s\n",
      "Num segments: 128. Traveltime:5.065554313395924 s\n",
      "Num segments: 256. Traveltime:5.065554313395925 s\n",
      "Num segments: 512. Traveltime:5.065554313395925 s\n",
      "Num segments: 1024. Traveltime:5.065554313395918 s\n"
     ]
    }
   ],
   "source": [
    "using Optim\n",
    "#Arguments\n",
    "T=20.;\n",
    "v_wind=[0.,0.,0.];\n",
    "SourcePoint=[0.,0.,0.];\n",
    "ReceiverPoint=[1000.,1000.,1000.];\n",
    "#Optimize the coordinates of the union of segments\n",
    "function objective(SegmentsCoords)\n",
    "    traveltime = segmented_trajectory_TZ(c_air_TZ, T , v_wind, SourcePoint, ReceiverPoint, SegmentsCoords)\n",
    "    return traveltime\n",
    "end\n",
    "\n",
    "initial_SegmentsCoords = zeros(1, 3); #c.i.\n",
    "for i in 1:10\n",
    "    if i==1\n",
    "        initial_SegmentsCoords[1, :] = SourcePoint +  (ReceiverPoint - SourcePoint)/2\n",
    "    end\n",
    "    result = optimize(objective, initial_SegmentsCoords);\n",
    "    optimal_SegmentsCoords = result.minimizer;\n",
    "    total_time = segmented_trajectory_TZ(c_air_TZ, T, v_wind, SourcePoint, ReceiverPoint, optimal_SegmentsCoords)\n",
    "    println(\"Num segments: \", Int(size(optimal_SegmentsCoords,1)+1), \". Traveltime:\", total_time, \" s\")\n",
    "    \n",
    "    copy_optimal_SegmentsCoords=zeros(2*size(optimal_SegmentsCoords,1)+1,3)\n",
    "    for j in 1:2*size(optimal_SegmentsCoords,1)+1\n",
    "        if j==1\n",
    "            copy_optimal_SegmentsCoords[j,:]=(SourcePoint+optimal_SegmentsCoords[1,:])/2\n",
    "        elseif j==2*size(optimal_SegmentsCoords,1)+1\n",
    "            copy_optimal_SegmentsCoords[j,:]=(optimal_SegmentsCoords[end,:]+ReceiverPoint)/2\n",
    "        else\n",
    "            if iseven(j)\n",
    "                copy_optimal_SegmentsCoords[j,:]=optimal_SegmentsCoords[Int(j/2),:]\n",
    "            else\n",
    "                copy_optimal_SegmentsCoords[j,:]=(optimal_SegmentsCoords[Int((j-1)/2),:]+optimal_SegmentsCoords[Int((j+1)/2),:])/2\n",
    "            end\n",
    "        end\n",
    "    end\n",
    "    initial_SegmentsCoords = copy(copy_optimal_SegmentsCoords)\n",
    "end"
   ]
  }
 ],
 "metadata": {
  "@webio": {
   "lastCommId": null,
   "lastKernelId": null
  },
  "kernelspec": {
   "display_name": "Julia 1.9.4",
   "language": "julia",
   "name": "julia-1.9"
  },
  "language_info": {
   "file_extension": ".jl",
   "mimetype": "application/julia",
   "name": "julia",
   "version": "1.9.4"
  }
 },
 "nbformat": 4,
 "nbformat_minor": 5
}
