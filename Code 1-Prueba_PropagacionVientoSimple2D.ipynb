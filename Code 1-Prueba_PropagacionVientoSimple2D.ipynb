{
 "cells": [
  {
   "cell_type": "markdown",
   "id": "45b31c98",
   "metadata": {},
   "source": [
    "#### Import packages"
   ]
  },
  {
   "cell_type": "code",
   "execution_count": null,
   "id": "04671a62",
   "metadata": {},
   "outputs": [],
   "source": [
    "import Pkg\n",
    "Pkg.add(\"FastMarching\")\n",
    "Pkg.add(\"Gadfly\")\n",
    "Pkg.add(\"DataFrames\")\n",
    "Pkg.add(\"Plots\")\n",
    "Pkg.add(\"DifferentialEquations\")\n",
    "Pkg.add(\"Eikonal\")\n",
    "Pkg.add(\"Gridap\")\n",
    "Pkg.add(\"Optim\")\n",
    "Pkg.add(\"Cairo\")\n",
    "Pkg.add(\"Fontconfig\") "
   ]
  },
  {
   "cell_type": "markdown",
   "id": "3b8a2b3e",
   "metadata": {},
   "source": [
    " First, we set up a grid. We propose a 1000m x 1000m grid with nodes separated by one meter in both directions. We therefore need 1001 nodes in each direction We will work in the SI to simplify the code and not make silly mistakes."
   ]
  },
  {
   "cell_type": "code",
   "execution_count": 67,
   "id": "5817dee6",
   "metadata": {},
   "outputs": [],
   "source": [
    "Nx=1001;\n",
    "Ny=1001;"
   ]
  },
  {
   "cell_type": "markdown",
   "id": "ab83c138",
   "metadata": {},
   "source": [
    "To solve the eikonal equation we need to model the wave speed. A simple model is  $c=c_{air}+\\vec{v_{wind}}.\\vec{n}$. Now we set $c_{air}=340 m/s$  and $v_{wind}=(10,0)m/s$. In the X direction, the wavefront normal is $\\vec{n}=(1,0)$ and consequently $c_x=350 m/s$. In the Y direction, the wavefront normal is $\\vec{n}=(0,1)$ and consequently $c_y=340 m/s$. In diagonal $\\vec{n}=\\frac{(1,1)}{\\sqrt{2}}$ and $c_d=(340+\\frac{10}{\\sqrt{2}}) m/s= 347,0710678 m/s$"
   ]
  },
  {
   "cell_type": "markdown",
   "id": "cf01f08f",
   "metadata": {},
   "source": [
    " We obtain the gradient of the flight time from the Eikonal equation.  ${\\nabla{T}(x,y)}^2=\\frac{1}{c(x,y)^2} \\Rightarrow |\\nabla{T}(x,y)|=|\\frac{1}{c(x,y)}| $ . This leads to a system of partial differential equations. However, in certain directions where the speed is constant, we know the analytical result which is simply $\\nabla{T}=1/c$."
   ]
  },
  {
   "cell_type": "markdown",
   "id": "748a0fc9",
   "metadata": {},
   "source": [
    "We can analytically know the result for a given source and a given distance in certain constant speed scenarios, so it serves as a \"benchmark\" for the methods to be applied."
   ]
  },
  {
   "cell_type": "markdown",
   "id": "68a3b6ad",
   "metadata": {},
   "source": [
    "# FastMarching package\n",
    "\n",
    "ref:https://docs.juliahub.com/General/FastMarching/stable/autodocs/"
   ]
  },
  {
   "cell_type": "markdown",
   "id": "e8218422",
   "metadata": {},
   "source": [
    "### Msfm function of FastMarching "
   ]
  },
  {
   "cell_type": "markdown",
   "id": "beb37e4c",
   "metadata": {},
   "source": [
    "We see that flight time is obtained using the FastMarching package already implemented in Julia. First, we observe the result for a single constant speed in all directions that matches with c_air=340m/s.  We set $(x_i,y_i)=(0,0)m ; (x_f, y_f)=(1000,1000)m$. The distance travelled is $d=\\sqrt{1000m^2+1000m^2}=1414,21m$"
   ]
  },
  {
   "cell_type": "code",
   "execution_count": 68,
   "id": "9033adfb",
   "metadata": {},
   "outputs": [
    {
     "name": "stdout",
     "output_type": "stream",
     "text": [
      "  2.870004 seconds (338 allocations: 38.366 MiB)\n",
      "The travel time obtained by FastMarching is 4.1595811072585\n",
      "The travel time obtained analytically is 4.159451654038515\n"
     ]
    }
   ],
   "source": [
    "@time begin\n",
    "using FastMarching\n",
    "c_air=340.0\n",
    "c_air_matrix= fill(c_air, (Nx, Ny))\n",
    "SourcePoint = [1.,1.]  # Starting point\n",
    "T = FastMarching.msfm(c_air_matrix, SourcePoint, true, true)\n",
    "# We can obtain the flight time athe receiver [100m,100m]\n",
    "travel_time = T[1001, 1001];\n",
    "analytic_travel_time=sqrt(1000^2+1000^2)/c_air;\n",
    "end\n",
    "println(\"The travel time obtained by FastMarching is $travel_time\")\n",
    "println(\"The travel time obtained analytically is $analytic_travel_time\")"
   ]
  },
  {
   "cell_type": "markdown",
   "id": "c35409d9",
   "metadata": {},
   "source": [
    "Now we must define the wave speed map at every node point based on the expression $c=c_{air}+\\vec{v_{wind}}.\\vec{n}$; with $\\vec{n}$ variable depending on the point. "
   ]
  },
  {
   "cell_type": "code",
   "execution_count": 69,
   "id": "a10cad01",
   "metadata": {},
   "outputs": [
    {
     "data": {
      "text/plain": [
       "map_speed (generic function with 1 method)"
      ]
     },
     "execution_count": 69,
     "metadata": {},
     "output_type": "execute_result"
    }
   ],
   "source": [
    "using LinearAlgebra\n",
    "function map_speed(c_air::Float64,v_wind::Array{Float64,1},SourcePoint::Array{Float64,1},Nx::Int64, Ny::Int64)\n",
    "    c=fill(c_air, (Nx, Ny));\n",
    "    n = zeros(Float64,Nx, Ny, 2);\n",
    "    for i in 1:Nx, j in 1:Ny\n",
    "        vector=[float(i),float(j)]-SourcePoint;\n",
    "        n[i,j,:]=vector/norm(vector);\n",
    "        c[i,j]=c_air+dot(v_wind,n[i,j,:]);\n",
    "        if [float(i),float(j)]==SourcePoint \n",
    "            #Initial condition\n",
    "            c[i,j]=c_air\n",
    "            n[i,j,:]=[0.,0.]\n",
    "        end  \n",
    "    end\n",
    "    return c\n",
    "end"
   ]
  },
  {
   "cell_type": "code",
   "execution_count": 70,
   "id": "f6cee1a2",
   "metadata": {
    "scrolled": true
   },
   "outputs": [
    {
     "data": {
      "text/plain": [
       "\"C:\\\\Users\\\\Miguel\\\\Desktop\\\\TFM\\\\Codigos Julia\\\\MapavsonidoBenchmarking.png\""
      ]
     },
     "execution_count": 70,
     "metadata": {},
     "output_type": "execute_result"
    }
   ],
   "source": [
    "v_wind=[10.,0.];\n",
    "#Even though the source corresponds to nodes, it is simpler to define it as a vector of floating point components.\n",
    "SourcePoint=[1.,1.];\n",
    "c=map_speed(c_air,v_wind,SourcePoint,Nx,Ny);\n",
    "#Plotting\n",
    "using Plots\n",
    "Plots.heatmap(transpose(c), xlims=(0,1000), ylims=(0,1000), title=\"Map of the speed of sound over the region\", xlabel=\"x (m)\", ylabel=\"y (m)\")\n",
    "savefig(\"MapavsonidoBenchmarking.png\")"
   ]
  },
  {
   "cell_type": "code",
   "execution_count": 71,
   "id": "8bcfdeb3",
   "metadata": {},
   "outputs": [
    {
     "name": "stdout",
     "output_type": "stream",
     "text": [
      "Along the X axis:\n",
      "  3.603463 seconds (5.01 M allocations: 435.867 MiB, 4.67% gc time)\n",
      "The travel time obtained by FastMarching is 2.8571428571606927\n",
      "The travel time obtained analytically is 2.857142857142857\n",
      "Along the Y axis:\n",
      "The travel time obtained by FastMarching is 2.940143116901547\n",
      "The travel time obtained analytically is 2.9411764705882355\n"
     ]
    }
   ],
   "source": [
    "@time begin\n",
    "v_wind=[10.,0.];\n",
    "#Even though the source corresponds to nodes, it is simpler to define it as a vector of floating point components.\n",
    "SourcePoint=[1.,1.];\n",
    "c=map_speed(c_air,v_wind,SourcePoint,Nx,Ny);\n",
    "T = FastMarching.msfm(c, SourcePoint, true, true)\n",
    "println(\"Along the X axis:\")\n",
    "travel_time_X = T[1001, 1];\n",
    "end \n",
    "\n",
    "analytic_travel_time_X=1000/350.\n",
    "println(\"The travel time obtained by FastMarching is $travel_time_X\")\n",
    "println(\"The travel time obtained analytically is $analytic_travel_time_X\")\n",
    "\n",
    "println(\"Along the Y axis:\")\n",
    "travel_time_Y = T[1, 1001];\n",
    "analytic_travel_time_Y=1000/340.\n",
    "println(\"The travel time obtained by FastMarching is $travel_time_Y\")\n",
    "println(\"The travel time obtained analytically is $analytic_travel_time_Y\")\n"
   ]
  },
  {
   "cell_type": "markdown",
   "id": "c1a2def2",
   "metadata": {},
   "source": [
    "In the Y direction, a similar but different result is obtained. It may not follow a straight path in the Y direction. Makes sense."
   ]
  },
  {
   "cell_type": "markdown",
   "id": "468f2578",
   "metadata": {},
   "source": [
    "# Gadfly package"
   ]
  },
  {
   "cell_type": "code",
   "execution_count": 72,
   "id": "a5046891",
   "metadata": {},
   "outputs": [],
   "source": [
    "using Gadfly\n",
    "using Cairo\n",
    "using Fontconfig\n",
    "p=Gadfly.plot(z=T, Geom.contour,Coord.Cartesian(xmin=0, xmax=1000, ymin=0, ymax=1000), Guide.xlabel(\"x (m)\"),\n",
    "    Guide.ylabel(\"y (m)\"),Guide.title(\"Fast Marching\"),Guide.colorkey(title =\"Traveltime (s)\"))\n",
    "Gadfly.push!(p, layer(x=[SourcePoint[1]], y=[SourcePoint[2]], Geom.point, Theme(default_color=\"red\")))\n",
    "draw(PNG(\"gadflyFM.png\", 8inch, 6inch), p)"
   ]
  },
  {
   "cell_type": "markdown",
   "id": "a91ac36a",
   "metadata": {},
   "source": [
    "# Fast Sweeping method of Eikonal package"
   ]
  },
  {
   "cell_type": "markdown",
   "id": "fbc1bca3",
   "metadata": {},
   "source": [
    "Ref: https://github.com/triscale-innov/Eikonal.jl/blob/main/docs/ripple-tank/ripple-tank.md"
   ]
  },
  {
   "cell_type": "code",
   "execution_count": 73,
   "id": "3753c92f",
   "metadata": {},
   "outputs": [
    {
     "name": "stdout",
     "output_type": "stream",
     "text": [
      "iter 1, sweep 1: change = 0.0\n",
      "iter 1, sweep 2: change = Inf\n",
      "iter 1, sweep 3: change = 0.0\n",
      "iter 1, sweep 4: change = Inf\n",
      "iter 2, sweep 1: change = Inf\n",
      "iter 2, sweep 2: change = 0.0001767983918250674\n",
      "iter 2, sweep 3: change = 0.0\n",
      "iter 2, sweep 4: change = 0.0\n",
      "iter 3, sweep 1: change = 3.6063349963160013e-6\n",
      "iter 3, sweep 2: change = 3.1003804594091173e-6\n",
      "iter 3, sweep 3: change = 0.0\n",
      "iter 3, sweep 4: change = 0.0\n",
      "iter 4, sweep 1: change = 9.58377603392923e-7\n",
      "iter 4, sweep 2: change = 8.870204499939237e-7\n",
      "iter 4, sweep 3: change = 0.0\n",
      "iter 4, sweep 4: change = 0.0\n",
      "iter 5, sweep 1: change = 3.1093367521076296e-7\n",
      "iter 5, sweep 2: change = 2.9742935305226793e-7\n",
      "iter 5, sweep 3: change = 0.0\n",
      "iter 5, sweep 4: change = 0.0\n",
      "iter 6, sweep 1: change = 1.0552134995493261e-7\n",
      "iter 6, sweep 2: change = 1.0249527539862101e-7\n",
      "iter 6, sweep 3: change = 0.0\n",
      "iter 6, sweep 4: change = 0.0\n",
      "iter 7, sweep 1: change = 3.706399961610193e-8\n",
      "iter 7, sweep 2: change = 3.6360080460685386e-8\n",
      "iter 7, sweep 3: change = 0.0\n",
      "iter 7, sweep 4: change = 0.0\n",
      "iter 8, sweep 1: change = 1.3399205280231476e-8\n",
      "iter 8, sweep 2: change = 1.3260252255743646e-8\n",
      "iter 8, sweep 3: change = 0.0\n",
      "iter 8, sweep 4: change = 0.0\n",
      "iter 9, sweep 1: change = 4.777958591668987e-9\n",
      "iter 9, sweep 2: change = 4.747747799240183e-9\n",
      "iter 9, sweep 3: change = 0.0\n",
      "iter 9, sweep 4: change = 0.0\n",
      "iter 10, sweep 1: change = 1.6655441927183453e-9\n",
      "iter 10, sweep 2: change = 1.6558699490666739e-9\n",
      "iter 10, sweep 3: change = 0.0\n",
      "iter 10, sweep 4: change = 0.0\n",
      "iter 11, sweep 1: change = 5.687811581548959e-10\n",
      "iter 11, sweep 2: change = 5.673604747459755e-10\n",
      "iter 11, sweep 3: change = 0.0\n",
      "iter 11, sweep 4: change = 0.0\n",
      "iter 12, sweep 1: change = 1.9552066819321506e-10\n",
      "iter 12, sweep 2: change = 1.9506530362395013e-10\n",
      "iter 12, sweep 3: change = 0.0\n",
      "iter 12, sweep 4: change = 0.0\n",
      "iter 13, sweep 1: change = 6.586223931546442e-11\n",
      "iter 13, sweep 2: change = 6.571855622509303e-11\n",
      "iter 13, sweep 3: change = 0.0\n",
      "iter 13, sweep 4: change = 0.0\n",
      "iter 14, sweep 1: change = 2.1088469682633544e-11\n",
      "iter 14, sweep 2: change = 2.1045202293453228e-11\n",
      "iter 14, sweep 3: change = 0.0\n",
      "iter 14, sweep 4: change = 0.0\n",
      "iter 15, sweep 1: change = 7.400515318701008e-12\n",
      "iter 15, sweep 2: change = 8.341513934386742e-12\n",
      "iter 15, sweep 3: change = 0.0\n",
      "iter 15, sweep 4: change = 0.0\n",
      "iter 16, sweep 1: change = 2.671435001182995e-12\n",
      "iter 16, sweep 2: change = 5.185197273045896e-12\n",
      "iter 16, sweep 3: change = 0.0\n",
      "iter 16, sweep 4: change = 0.0\n",
      "iter 17, sweep 1: change = 3.105537050413298e-12\n",
      "iter 17, sweep 2: change = 3.700356958615628e-12\n",
      "iter 17, sweep 3: change = 0.0\n",
      "iter 17, sweep 4: change = 0.0\n",
      "iter 18, sweep 1: change = 2.557929187567774e-12\n",
      "iter 18, sweep 2: change = 3.1790442371509413e-12\n",
      "iter 18, sweep 3: change = 0.0\n",
      "iter 18, sweep 4: change = 0.0\n",
      "iter 19, sweep 1: change = 2.2611666448911858e-12\n",
      "iter 19, sweep 2: change = 2.944286674304884e-12\n",
      "iter 19, sweep 3: change = 0.0\n",
      "iter 19, sweep 4: change = 0.0\n",
      "iter 20, sweep 1: change = 2.6205798351206316e-12\n",
      "iter 20, sweep 2: change = 2.60489251771464e-12\n",
      "iter 20, sweep 3: change = 0.0\n",
      "iter 20, sweep 4: change = 0.0\n",
      "iter 21, sweep 1: change = 2.246735306400601e-12\n",
      "iter 21, sweep 2: change = 2.9185884190027296e-12\n",
      "iter 21, sweep 3: change = 0.0\n",
      "iter 21, sweep 4: change = 0.0\n",
      "iter 22, sweep 1: change = 2.223810698904501e-12\n",
      "iter 22, sweep 2: change = 2.4937208485573e-12\n",
      "iter 22, sweep 3: change = 0.0\n",
      "iter 22, sweep 4: change = 0.0\n",
      "iter 23, sweep 1: change = 2.4670202882584336e-12\n",
      "iter 23, sweep 2: change = 1.9580831678976947e-12\n",
      "iter 23, sweep 3: change = 0.0\n",
      "iter 23, sweep 4: change = 0.0\n",
      "iter 24, sweep 1: change = 2.764899029299128e-12\n",
      "iter 24, sweep 2: change = 2.2135868221527885e-13\n",
      "iter 24, sweep 3: change = 0.0\n",
      "iter 24, sweep 4: change = 0.0\n",
      "iter 25, sweep 1: change = 2.0123369273696165e-12\n",
      "iter 25, sweep 2: change = 6.746226332824533e-13\n",
      "iter 25, sweep 3: change = 0.0\n",
      "iter 25, sweep 4: change = 0.0\n",
      "iter 26, sweep 1: change = 2.0358830326709e-12\n",
      "iter 26, sweep 2: change = 3.160469132476065e-13\n",
      "iter 26, sweep 3: change = 0.0\n",
      "iter 26, sweep 4: change = 0.0\n",
      "iter 27, sweep 1: change = 2.190187224203432e-12\n",
      "iter 27, sweep 2: change = 1.507220917659196e-12\n",
      "iter 27, sweep 3: change = 0.0\n",
      "iter 27, sweep 4: change = 0.0\n",
      "iter 28, sweep 1: change = 2.9174311656312186e-12\n",
      "iter 28, sweep 2: change = 1.4492087835756481e-12\n",
      "iter 28, sweep 3: change = 0.0\n",
      "iter 28, sweep 4: change = 0.0\n",
      "iter 29, sweep 1: change = 2.623201599517955e-12\n",
      "iter 29, sweep 2: change = 1.316698965475579e-12\n",
      "iter 29, sweep 3: change = 0.0\n",
      "iter 29, sweep 4: change = 0.0\n",
      "iter 30, sweep 1: change = 2.185212028241208e-12\n",
      "iter 30, sweep 2: change = 1.1955816097575156e-12\n",
      "iter 30, sweep 3: change = 0.0\n",
      "iter 30, sweep 4: change = 0.0\n",
      "iter 31, sweep 1: change = 1.4449051394960916e-12\n",
      "iter 31, sweep 2: change = 8.097046506196508e-13\n",
      "iter 31, sweep 3: change = 0.0\n",
      "iter 31, sweep 4: change = 0.0\n",
      "iter 32, sweep 1: change = 2.8699109672254083e-13\n",
      "iter 32, sweep 2: change = 0.0\n",
      "iter 32, sweep 3: change = 0.0\n",
      "iter 32, sweep 4: change = 0.0\n",
      "  1.228851 seconds (4.85 k allocations: 23.256 MiB)\n"
     ]
    },
    {
     "data": {
      "text/plain": [
       "2.857226890756263"
      ]
     },
     "execution_count": 73,
     "metadata": {},
     "output_type": "execute_result"
    }
   ],
   "source": [
    "using Eikonal\n",
    "\n",
    "# Define the slowness field sigma in the Eikonal context\n",
    "@time begin\n",
    "sigma = 1.0 ./ c;\n",
    "\n",
    "fs = FastSweeping(sigma);\n",
    "\n",
    "# Source point. We must use integers here\n",
    "source_point = (1, 1);\n",
    "\n",
    "# Initialize the wavefront arrival time at the source point\n",
    "init!(fs, source_point);\n",
    "sweep!(fs, verbose=true);\n",
    "travel_time_FSM=fs.t[1:Nx,1:Ny];\n",
    "travel_time_FSM_x=travel_time_FSM[1001,1];\n",
    "end\n",
    "\n",
    "#The time matrix fs.t is initialized with an additional dimension in each direction to handle boundary conditions.\n",
    "#This is done to avoid out-of-range index problems during the sweeping calculation. \n",
    "#The additional values in fs.t represent the travel times in the “ghost cells” outside the real calculation domain.\n",
    "#Therefore, fs.t is a matrix of dimension (Nx+1) x (Ny+1).\n",
    "\n"
   ]
  },
  {
   "cell_type": "code",
   "execution_count": 74,
   "id": "58808a15",
   "metadata": {},
   "outputs": [
    {
     "name": "stdout",
     "output_type": "stream",
     "text": [
      "The travel time obtained by FastSweeping along the X axis is 2.857226890756263\n",
      "The travel time obtained analytically along the X axis is 2.857142857142857\n"
     ]
    }
   ],
   "source": [
    "println(\"The travel time obtained by FastSweeping along the X axis is $travel_time_FSM_x\")\n",
    "println(\"The travel time obtained analytically along the X axis is $analytic_travel_time_X\")\n",
    "using Gadfly\n",
    "p2=Gadfly.plot(z=travel_time_FSM, Geom.contour,Coord.Cartesian(xmin=0, xmax=1000, ymin=0, ymax=1000), Guide.xlabel(\"x (m)\"),\n",
    "    Guide.ylabel(\"y (m)\"),Guide.title(\"Fast Sweeping\"),Guide.colorkey(title =\"Traveltime (s)\"))\n",
    "Gadfly.push!(p2, layer(x=[SourcePoint[1]], y=[SourcePoint[2]], Geom.point, Theme(default_color=\"red\")))\n",
    "draw(PNG(\"gadflyFS.png\", 8inch, 6inch), p2)"
   ]
  },
  {
   "cell_type": "markdown",
   "id": "a9e9b15a",
   "metadata": {},
   "source": [
    "# DifferentialEquations package\n",
    "\n",
    "In certain directions where the speed is constant we can use this package to solve $\\frac{du}{dx}=f(u,p,x)$. In the X direction we can set c=350m/s.\n",
    "\n",
    "Ref: https://docs.sciml.ai/DiffEqDocs/stable/"
   ]
  },
  {
   "cell_type": "code",
   "execution_count": 78,
   "id": "248c5f06",
   "metadata": {},
   "outputs": [
    {
     "name": "stdout",
     "output_type": "stream",
     "text": [
      "  1.112901 seconds (633.62 k allocations: 42.262 MiB, 99.82% compilation time: 100% of which was recompilation)\n",
      "The travel time given by DifferentialEquations is 2.8571428571428434\n",
      "The travel time obtained analytically is 2.857142857142857\n"
     ]
    }
   ],
   "source": [
    "@time begin\n",
    "using DifferentialEquations\n",
    "# We define the ODE\n",
    "f(u,p,x) = 1/350.;\n",
    "\n",
    "# Initial condition\n",
    "u0 = 0;\n",
    "#Interval\n",
    "xspan = (0.0, 1000.0);\n",
    "\n",
    "# Solve the ODEProblem\n",
    "prob = ODEProblem(f, u0, xspan);\n",
    "sol = DifferentialEquations.solve(prob);\n",
    "travel_time=sol(1000.);\n",
    "end\n",
    "analytical_travel_time=1000/350.\n",
    "println(\"The travel time given by DifferentialEquations is $travel_time\")\n",
    "println(\"The travel time obtained analytically is $analytical_travel_time\")\n"
   ]
  },
  {
   "cell_type": "code",
   "execution_count": 79,
   "id": "cacbe68f",
   "metadata": {},
   "outputs": [
    {
     "name": "stdout",
     "output_type": "stream",
     "text": [
      "  0.628881 seconds (422.14 k allocations: 28.070 MiB, 99.78% compilation time: 100% of which was recompilation)\n",
      "The travel time given by DifferentialEquations RK4 is 2.857142857142857\n",
      "The travel time obtained analytically is 2.857142857142857\n"
     ]
    }
   ],
   "source": [
    "@time begin\n",
    "#Now we apply fourth order Runge-Kutta \n",
    "using DifferentialEquations\n",
    "\n",
    "# We define the ODE\n",
    "f(u,p,x) = 1/350;\n",
    "\n",
    "# Initial condition\n",
    "u0 = 0;\n",
    "#Interval\n",
    "xspan = (0.0, 1000.0);\n",
    "\n",
    "# Solve the ODEProblem\n",
    "prob = ODEProblem(f, u0, xspan);\n",
    "sol = DifferentialEquations.solve(prob,RK4());\n",
    "travel_time=sol(1000.);\n",
    "end\n",
    "analytical_travel_time=1000/350.\n",
    "println(\"The travel time given by DifferentialEquations RK4 is $travel_time\")\n",
    "println(\"The travel time obtained analytically is $analytical_travel_time\")"
   ]
  }
 ],
 "metadata": {
  "@webio": {
   "lastCommId": null,
   "lastKernelId": null
  },
  "kernelspec": {
   "display_name": "Julia 1.9.4",
   "language": "julia",
   "name": "julia-1.9"
  },
  "language_info": {
   "file_extension": ".jl",
   "mimetype": "application/julia",
   "name": "julia",
   "version": "1.9.4"
  }
 },
 "nbformat": 4,
 "nbformat_minor": 5
}
